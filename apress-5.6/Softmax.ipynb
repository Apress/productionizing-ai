{
 "cells": [
  {
   "cell_type": "markdown",
   "id": "8373a5c9",
   "metadata": {},
   "source": [
    "Goal: see how softmax operates \"under the hood\""
   ]
  },
  {
   "cell_type": "code",
   "execution_count": null,
   "id": "eb021589",
   "metadata": {},
   "outputs": [],
   "source": [
    "import numpy as np"
   ]
  },
  {
   "cell_type": "code",
   "execution_count": null,
   "id": "4ba53412",
   "metadata": {},
   "outputs": [],
   "source": [
    "logits = [2.0, 1.0, 0.1]"
   ]
  },
  {
   "cell_type": "code",
   "execution_count": null,
   "id": "c06e9a60",
   "metadata": {},
   "outputs": [],
   "source": [
    "exps = [np.exp(i) for i in logits]\n",
    "exps"
   ]
  },
  {
   "cell_type": "code",
   "execution_count": null,
   "id": "a06ff805",
   "metadata": {},
   "outputs": [],
   "source": [
    "sum_of_exps = sum(exps)\n",
    "sum_of_exps"
   ]
  },
  {
   "cell_type": "code",
   "execution_count": null,
   "id": "1f788c67",
   "metadata": {},
   "outputs": [],
   "source": [
    "softmax = [j/sum_of_exps for j in exps]\n",
    "softmax"
   ]
  },
  {
   "cell_type": "code",
   "execution_count": null,
   "id": "0cffb58d",
   "metadata": {},
   "outputs": [],
   "source": [
    "sum(softmax)"
   ]
  }
 ],
 "metadata": {
  "kernelspec": {
   "display_name": "Python 3",
   "language": "python",
   "name": "python3"
  },
  "language_info": {
   "codemirror_mode": {
    "name": "ipython",
    "version": 3
   },
   "file_extension": ".py",
   "mimetype": "text/x-python",
   "name": "python",
   "nbconvert_exporter": "python",
   "pygments_lexer": "ipython3",
   "version": "3.8.8"
  }
 },
 "nbformat": 4,
 "nbformat_minor": 5
}
