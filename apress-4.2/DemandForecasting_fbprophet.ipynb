{
  "cells": [
    {
      "cell_type": "markdown",
      "source": [
        "### Demand Forecasting with fbprophet"
      ],
      "metadata": {
        "id": "4j-WF5td8RI1"
      }
    },
    {
      "cell_type": "markdown",
      "source": [
        "add image below to default Colab temp storage on LHS (content)"
      ],
      "metadata": {
        "id": "UB4k7-9b8Zqb"
      }
    },
    {
      "cell_type": "code",
      "source": [
        "from IPython.display import Image\n",
        "Image(\"/content/fb-prophet.png\", width = 200)\n"
      ],
      "metadata": {
        "id": "2A0lAeDu8_SB"
      },
      "execution_count": null,
      "outputs": []
    },
    {
      "cell_type": "markdown",
      "metadata": {
        "id": "S1DSR8IY8IAM"
      },
      "source": [
        "#### Libraries"
      ]
    },
    {
      "cell_type": "code",
      "execution_count": null,
      "metadata": {
        "id": "_r-zD9un8IAT"
      },
      "outputs": [],
      "source": [
        "import pandas as pd\n",
        "from prophet import Prophet"
      ]
    },
    {
      "cell_type": "markdown",
      "metadata": {
        "id": "liwL3uiq8IAU"
      },
      "source": [
        "#### Model setup"
      ]
    },
    {
      "cell_type": "code",
      "execution_count": null,
      "metadata": {
        "collapsed": true,
        "id": "kcGSM0rX8IAV"
      },
      "outputs": [],
      "source": [
        "# get quarterly construction data\n",
        "import requests\n",
        "from io import BytesIO\n",
        "\n",
        "xl = requests.get(\"https://www.ons.gov.uk/file?uri=/businessindustryandtrade/constructionindustry/datasets/outputintheconstructionindustry/current/bulletindataset22.xlsx\")\n",
        "df = pd.read_excel(BytesIO(xl.content), sheet_name=\"Table 1a\", skiprows=34, nrows=99) # update or automate nrows to get the latest data\n",
        "df.head()"
      ]
    },
    {
      "cell_type": "code",
      "execution_count": null,
      "metadata": {
        "collapsed": true,
        "id": "VdCHEulU8IAY"
      },
      "outputs": [],
      "source": [
        "# Exercise: comment out the quarterly data import and adapt below for forecasting monthly construction data\n",
        "\n",
        "# import requests\n",
        "# from io import BytesIO\n",
        "\n",
        "# xl = requests.get(\"https://www.ons.gov.uk/file?uri=/businessindustryandtrade/constructionindustry/datasets/outputintheconstructionindustry/current/bulletindataset22.xlsx\")\n",
        "# df = pd.read_excel(BytesIO(xl.content), sheet_name=\"Table 1a\", skiprows=131)\n",
        "# df.head()"
      ]
    },
    {
      "cell_type": "code",
      "execution_count": null,
      "metadata": {
        "collapsed": true,
        "id": "r_JauklZ8IAa"
      },
      "outputs": [],
      "source": [
        "# # sample fbprophet data for testing\n",
        "# df = pd.read_csv('https://raw.githubusercontent.com/facebook/prophet/master/examples/example_retail_sales.csv')\n",
        "# df.head()"
      ]
    },
    {
      "cell_type": "markdown",
      "metadata": {
        "id": "mv9D8nJb8IAb"
      },
      "source": [
        "#### Wrangle Construction Data into forecastable format"
      ]
    },
    {
      "cell_type": "code",
      "execution_count": null,
      "metadata": {
        "scrolled": true,
        "id": "MY_Fo-ey8IAd"
      },
      "outputs": [],
      "source": [
        "df=df.iloc[:,0:3] # only interested in 1st free columns\n",
        "df = df.rename(columns={'Unnamed: 2':'New Housing - Public'}) # rename column\n",
        "\n",
        "# generate running dates\n",
        "df[\"Date\"] = pd.date_range(start='1/1/1997', periods=len(df), freq='QS') # MS = month start\n",
        "\n",
        "df=df.iloc[:,2:] # can now drop 1st two columns\n",
        "df = df[['Date','New Housing - Public']] # change order of columns\n",
        "\n",
        "df.head() # check"
      ]
    },
    {
      "cell_type": "code",
      "execution_count": null,
      "metadata": {
        "id": "kOY06iDM8IAe"
      },
      "outputs": [],
      "source": [
        "df.tail() # check"
      ]
    },
    {
      "cell_type": "code",
      "execution_count": null,
      "metadata": {
        "id": "3LcPH7qm8IAf"
      },
      "outputs": [],
      "source": [
        "df = df.rename(columns={'Date': \"ds\", 'New Housing - Public': \"y\"}) # rename columns again for fbprophet"
      ]
    },
    {
      "cell_type": "code",
      "execution_count": null,
      "metadata": {
        "id": "r28SnORS8IAg"
      },
      "outputs": [],
      "source": [
        "m = Prophet(seasonality_mode='multiplicative').fit(df)\n",
        "future = m.make_future_dataframe(periods=40, freq='QS')"
      ]
    },
    {
      "cell_type": "markdown",
      "metadata": {
        "id": "oQDhb3sk8IAh"
      },
      "source": [
        "#### Forecast Components"
      ]
    },
    {
      "cell_type": "code",
      "execution_count": null,
      "metadata": {
        "id": "6bHzaONC8IAi"
      },
      "outputs": [],
      "source": [
        "fcst = m.predict(future)\n",
        "fig = m.plot_components(fcst)"
      ]
    },
    {
      "cell_type": "markdown",
      "metadata": {
        "id": "O5T5sw3X8IAi"
      },
      "source": [
        "#### Model Forecast"
      ]
    },
    {
      "cell_type": "code",
      "execution_count": null,
      "metadata": {
        "id": "Mh1vonXT8IAj"
      },
      "outputs": [],
      "source": [
        "fcst = m.predict(future)\n",
        "fig = m.plot(fcst)"
      ]
    },
    {
      "cell_type": "markdown",
      "metadata": {
        "id": "6JXmGcy_8IAm"
      },
      "source": [
        "References:\n",
        "\n",
        "https://github.com/facebook/prophet/blob/master/examples/example_retail_sales.csv\n",
        "\n",
        "https://facebook.github.io/prophet/docs/non-daily_data.html\n",
        "\n",
        "https://ec.europa.eu/eurostat/web/short-term-business-statistics/data/database?p_p_id=NavTreeportletprod_WAR_NavTreeportletprod_INSTANCE_1VuowK1tZM0H&p_p_lifecycle=0&p_p_state=normal&p_p_mode=view\n",
        "\n",
        "https://mode.com/example-gallery/forecasting_prophet_python_cookbook/\n",
        "    \n",
        "https://towardsdatascience.com/demand-forecasting-using-fb-prophet-e3d1444b9dd8"
      ]
    }
  ],
  "metadata": {
    "celltoolbar": "Slideshow",
    "kernelspec": {
      "display_name": "Python 3",
      "language": "python",
      "name": "python3"
    },
    "language_info": {
      "codemirror_mode": {
        "name": "ipython",
        "version": 3
      },
      "file_extension": ".py",
      "mimetype": "text/x-python",
      "name": "python",
      "nbconvert_exporter": "python",
      "pygments_lexer": "ipython3",
      "version": "3.8.8"
    },
    "rise": {
      "autolaunch": true,
      "enable_chalkboard": true,
      "theme": "solarized"
    },
    "colab": {
      "name": "DemandForecasting-fbprophet.ipynb",
      "provenance": [],
      "collapsed_sections": []
    }
  },
  "nbformat": 4,
  "nbformat_minor": 0
}