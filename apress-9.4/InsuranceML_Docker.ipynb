{
  "nbformat": 4,
  "nbformat_minor": 0,
  "metadata": {
    "colab": {
      "name": "InsuranceML-Docker-Apress.ipynb",
      "provenance": [],
      "collapsed_sections": []
    },
    "kernelspec": {
      "name": "python3",
      "display_name": "Python 3"
    },
    "language_info": {
      "name": "python"
    }
  },
  "cells": [
    {
      "cell_type": "code",
      "metadata": {
        "id": "1Bma_UXCcB5W"
      },
      "source": [
        "#ONE OFF INSTALL \n",
        "#%pip install pycaret"
      ],
      "execution_count": null,
      "outputs": []
    },
    {
      "cell_type": "code",
      "metadata": {
        "id": "CpHmim1Mb9-M"
      },
      "source": [
        "# Import dataset from pycaret repository\n",
        "from pycaret.datasets import get_data\n",
        "insurance = get_data('insurance')\n",
        "#insurance.head()"
      ],
      "execution_count": null,
      "outputs": []
    },
    {
      "cell_type": "code",
      "metadata": {
        "id": "r5p7nONScoP_"
      },
      "source": [
        "# NB when running below, make sure press enter in output prompt to continue / accept\n",
        "# Initialize environment\n",
        "from pycaret.regression import *\n",
        "r1 = setup(insurance, target = 'charges', session_id = 123,\n",
        "           normalize = True,\n",
        "           polynomial_features = True, trigonometry_features = True,\n",
        "           feature_interaction=True, \n",
        "           bin_numeric_features= ['age', 'bmi'])"
      ],
      "execution_count": null,
      "outputs": []
    },
    {
      "cell_type": "code",
      "metadata": {
        "id": "L-arSoF6csq-"
      },
      "source": [
        "# Train a linear regression model\n",
        "lr = create_model('lr')"
      ],
      "execution_count": null,
      "outputs": []
    },
    {
      "cell_type": "code",
      "metadata": {
        "id": "axMNg_sQcuPS"
      },
      "source": [
        "# save transformation pipeline and model \n",
        "# NB gets saved in /content folder as pkl file\n",
        "# NB model_only=True added in line with reference https://github.com/pycaret/pycaret/issues/985\n",
        "save_model(lr, model_name = 'insurance-ml', model_only=True) "
      ],
      "execution_count": null,
      "outputs": []
    },
    {
      "cell_type": "code",
      "source": [
        ""
      ],
      "metadata": {
        "id": "RiC6ARHoOVZj"
      },
      "execution_count": null,
      "outputs": []
    }
  ]
}