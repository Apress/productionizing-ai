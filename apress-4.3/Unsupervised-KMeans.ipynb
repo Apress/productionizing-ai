{
 "cells": [
  {
   "cell_type": "markdown",
   "id": "1d52f144",
   "metadata": {},
   "source": [
    "### K-Means applied to Aerial LiDAR Point Cloud Dataset"
   ]
  },
  {
   "cell_type": "markdown",
   "id": "1cdc7456",
   "metadata": {},
   "source": [
    "<img src=\"https://miro.medium.com/max/998/1*YrjbW7VlnQSC3J3tXONAZw.gif\" alt=\"K-Means\" width=\"250\" height=100/ align=\"left\">"
   ]
  },
  {
   "cell_type": "code",
   "execution_count": null,
   "id": "f9674b3a",
   "metadata": {},
   "outputs": [],
   "source": [
    "import numpy as np\n",
    "import matplotlib.pyplot as plt\n",
    "from mpl_toolkits import mplot3d\n",
    "from sklearn.cluster import KMeans\n",
    "from sklearn.cluster import DBSCAN"
   ]
  },
  {
   "cell_type": "code",
   "execution_count": null,
   "id": "3ce785a5",
   "metadata": {},
   "outputs": [],
   "source": [
    "data_folder=\"DATA/\"\n",
    "dataset=\"KME_planes.xyz\""
   ]
  },
  {
   "cell_type": "code",
   "execution_count": null,
   "id": "17cca6fa",
   "metadata": {},
   "outputs": [],
   "source": [
    "x,y,z,illuminance,reflectance,intensity,nb_of_returns = np.loadtxt(data_folder+dataset,skiprows=1, delimiter=\";\", unpack=True)"
   ]
  },
  {
   "cell_type": "code",
   "execution_count": null,
   "id": "bf6d24fc",
   "metadata": {},
   "outputs": [],
   "source": [
    "plt.subplot(1, 2, 1) # row 1, col 2 index 1\n",
    "plt.scatter(x, z, c=intensity, s=0.05)\n",
    "plt.axhline(y=np.mean(z), color=\"r\", linestyle=\"-\")\n",
    "plt.title(\"First view\")\n",
    "plt.xlabel(\"X-axis \")\n",
    "plt.ylabel(\"Z-axis \")"
   ]
  },
  {
   "cell_type": "code",
   "execution_count": null,
   "id": "5101d557",
   "metadata": {},
   "outputs": [],
   "source": [
    "# same again on the y and z axes\n",
    "\n",
    "plt.subplot(1, 2, 2) # index 2\n",
    "plt.scatter(y, z, c=intensity, s=0.05)\n",
    "plt.axhline(y=np.mean(z), color=\"r\", linestyle=\"-\")\n",
    "plt.title(\"Second view\")\n",
    "plt.xlabel(\"Y-axis \")\n",
    "plt.ylabel(\"Z-axis \")"
   ]
  },
  {
   "cell_type": "code",
   "execution_count": null,
   "id": "2287c6a9",
   "metadata": {},
   "outputs": [],
   "source": [
    "plt.show()"
   ]
  },
  {
   "cell_type": "markdown",
   "id": "1b69236c",
   "metadata": {},
   "source": [
    "#### Point Cloud Filtering"
   ]
  },
  {
   "cell_type": "code",
   "execution_count": null,
   "id": "4238557f",
   "metadata": {},
   "outputs": [],
   "source": [
    "pcd=np.column_stack((x,y,z))\n",
    "mask=z>np.mean(z)\n",
    "spatial_query=pcd[z>np.mean(z)]"
   ]
  },
  {
   "cell_type": "code",
   "execution_count": null,
   "id": "77b69693",
   "metadata": {},
   "outputs": [],
   "source": [
    "# check filtering\n",
    "pcd.shape # before"
   ]
  },
  {
   "cell_type": "code",
   "execution_count": null,
   "id": "c4c03762",
   "metadata": {},
   "outputs": [],
   "source": [
    "spatial_query.shape # after"
   ]
  },
  {
   "cell_type": "code",
   "execution_count": null,
   "id": "fa5b0802",
   "metadata": {},
   "outputs": [],
   "source": [
    "#plotting the results 3D\n",
    "ax = plt.axes(projection=\"3d\")\n",
    "ax.scatter(x[mask], y[mask], z[mask], c = intensity[mask], s=0.1)\n",
    "plt.show()"
   ]
  },
  {
   "cell_type": "code",
   "execution_count": null,
   "id": "11d78342",
   "metadata": {},
   "outputs": [],
   "source": [
    "# top view: plotting the results 2D\n",
    "plt.scatter(x[mask], y[mask], c=intensity[mask], s=0.1)\n",
    "plt.show()"
   ]
  },
  {
   "cell_type": "markdown",
   "id": "8bd5e2b2",
   "metadata": {},
   "source": [
    "#### K-Means Clustering Implementation"
   ]
  },
  {
   "cell_type": "code",
   "execution_count": null,
   "id": "52e23272",
   "metadata": {},
   "outputs": [],
   "source": [
    "# create a feature space holding only the X, Y features after masking\n",
    "X=np.column_stack((x[mask], y[mask]))"
   ]
  },
  {
   "cell_type": "code",
   "execution_count": null,
   "id": "919ea735",
   "metadata": {},
   "outputs": [],
   "source": [
    "# run kmeans with k = 2\n",
    "\n",
    "kmeans = KMeans(n_clusters=2).fit(X)\n",
    "plt.scatter(x[mask], y[mask], c=kmeans.labels_, s=0.1)\n",
    "plt.show()"
   ]
  },
  {
   "cell_type": "markdown",
   "id": "140ace1e",
   "metadata": {},
   "source": [
    "k = 2 finds the planes"
   ]
  },
  {
   "cell_type": "code",
   "execution_count": null,
   "id": "f55dc38f",
   "metadata": {},
   "outputs": [],
   "source": []
  },
  {
   "cell_type": "markdown",
   "id": "1ecf516d",
   "metadata": {},
   "source": [
    "Reference:\n",
    "    \n",
    "https://towardsdatascience.com/3d-point-cloud-clustering-tutorial-with-k-means-and-python-c870089f3af8"
   ]
  }
 ],
 "metadata": {
  "kernelspec": {
   "display_name": "Python 3",
   "language": "python",
   "name": "python3"
  },
  "language_info": {
   "codemirror_mode": {
    "name": "ipython",
    "version": 3
   },
   "file_extension": ".py",
   "mimetype": "text/x-python",
   "name": "python",
   "nbconvert_exporter": "python",
   "pygments_lexer": "ipython3",
   "version": "3.8.8"
  }
 },
 "nbformat": 4,
 "nbformat_minor": 5
}
