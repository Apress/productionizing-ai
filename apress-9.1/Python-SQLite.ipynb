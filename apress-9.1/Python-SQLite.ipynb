{
 "cells": [
  {
   "cell_type": "markdown",
   "id": "4a7faed9",
   "metadata": {},
   "source": [
    "#### Create and connect to new SQLite Database"
   ]
  },
  {
   "cell_type": "code",
   "execution_count": null,
   "id": "3ffe8959",
   "metadata": {},
   "outputs": [],
   "source": [
    "import sqlite3\n",
    "\n",
    "try:\n",
    "    sqliteConnection = sqlite3.connect('SQLite_Python.db')\n",
    "    sqlite_create_table_query = '''CREATE TABLE SqliteDb_employees (\n",
    "                                  BusinessEntityID INTEGER PRIMARY KEY,\n",
    "                                  NationalIDNumber NVARCHAR NOT NULL,\n",
    "                                  OrganizationLevel SMALLINT NULL,\n",
    "                                  JobTitle  NVARCHAR NOT NULL,\n",
    "                                  BirthDate DATE NOT NULL,\n",
    "                                  Gender NCHAR(1) NOT NULL,\n",
    "                                  HireDate DATE NOT NULL);'''\n",
    "\n",
    "    cursor = sqliteConnection.cursor()\n",
    "    print(\"Successfully Connected to SQLite\")\n",
    "    cursor.execute(sqlite_create_table_query)\n",
    "    sqliteConnection.commit()\n",
    "    print(\"SQLite table created\")\n",
    "\n",
    "    cursor.close()\n",
    "\n",
    "except sqlite3.Error as error:\n",
    "    print(\"Error while creating a sqlite table\", error)\n",
    "finally:\n",
    "    if sqliteConnection:\n",
    "        sqliteConnection.close()\n",
    "        print(\"sqlite connection is closed\")"
   ]
  },
  {
   "cell_type": "markdown",
   "id": "85021c6a",
   "metadata": {},
   "source": [
    "#### Table inserts"
   ]
  },
  {
   "cell_type": "code",
   "execution_count": null,
   "id": "a378bc41",
   "metadata": {},
   "outputs": [],
   "source": [
    "# Reference: https://pynative.com/python-sqlite-insert-into-table/"
   ]
  },
  {
   "cell_type": "code",
   "execution_count": null,
   "id": "f9d42b8f",
   "metadata": {},
   "outputs": [],
   "source": [
    "try:\n",
    "    sqliteConnection = sqlite3.connect('SQLite_Python.db')\n",
    "    cursor = sqliteConnection.cursor()\n",
    "    print(\"Successfully Connected to SQLite\")\n",
    "\n",
    "    sqlite_insert_query = \"\"\"INSERT INTO SqliteDb_employees\n",
    "                          (BusinessEntityID,\n",
    "                          NationalIDNumber,\n",
    "                          OrganizationLevel,\n",
    "                          JobTitle,\n",
    "                          BirthDate,\n",
    "                          Gender,\n",
    "                          HireDate) \n",
    "                           VALUES \n",
    "                          (291,\n",
    "                          '111111111',\n",
    "                          '4',\n",
    "                          'Sales Representative',\n",
    "                          '09/03/1972',\n",
    "                          'F',\n",
    "                          '04/04/2014')\"\"\"\n",
    "\n",
    "    count = cursor.execute(sqlite_insert_query)\n",
    "    sqliteConnection.commit()\n",
    "    print(\"Record inserted successfully into SqliteDb_employees table \", cursor.rowcount)\n",
    "    cursor.close()\n",
    "\n",
    "except sqlite3.Error as error:\n",
    "    print(\"Failed to insert data into sqlite table\", error)\n",
    "finally:\n",
    "    if sqliteConnection:\n",
    "        sqliteConnection.close()\n",
    "        print(\"The SQLite connection is closed\")"
   ]
  },
  {
   "cell_type": "markdown",
   "id": "7ace4621",
   "metadata": {},
   "source": [
    "#### Read from SQL into Python"
   ]
  },
  {
   "cell_type": "code",
   "execution_count": null,
   "id": "33279408",
   "metadata": {},
   "outputs": [],
   "source": [
    "def readSqliteTable():\n",
    "    try:\n",
    "        sqliteConnection = sqlite3.connect('SQLite_Python.db')\n",
    "        cursor = sqliteConnection.cursor()\n",
    "        print(\"Connected to SQLite\")\n",
    "\n",
    "        sqlite_select_query = \"\"\"SELECT * from SqliteDb_employees\"\"\"\n",
    "        cursor.execute(sqlite_select_query)\n",
    "        records = cursor.fetchall()\n",
    "        print(\"Total rows are:  \", len(records))\n",
    "        print(\"Printing each row\")\n",
    "        for row in records:\n",
    "            print(\"BusinessEntityID: \", row[0])\n",
    "            print(\"NationalIDNumber: \", row[1])\n",
    "            print(\"OrganizationLevel: \", row[2])\n",
    "            print(\"JobTitle: \", row[3])\n",
    "            print(\"BirthDate: \", row[4])\n",
    "            print(\"Gender: \", row[5])\n",
    "            print(\"HireDate: \", row[6])\n",
    "            print(\"\\n\")\n",
    "\n",
    "        cursor.close()\n",
    "\n",
    "    except sqlite3.Error as error:\n",
    "        print(\"Failed to read data from sqlite table\", error)\n",
    "    finally:\n",
    "        if sqliteConnection:\n",
    "            sqliteConnection.close()\n",
    "            print(\"The SQLite connection is closed\")\n",
    "\n",
    "readSqliteTable()"
   ]
  },
  {
   "cell_type": "code",
   "execution_count": null,
   "id": "6b3f3135",
   "metadata": {},
   "outputs": [],
   "source": [
    "# Exercise - upload csv data into the database (offline) then reimport it here"
   ]
  },
  {
   "cell_type": "code",
   "execution_count": null,
   "id": "931c488d",
   "metadata": {},
   "outputs": [],
   "source": [
    "# first import csv\n",
    "\n",
    "import pandas as pd\n",
    "\n",
    "hrData = pd.read_csv(\"HRE-short.csv\")\n",
    "hrData.head()"
   ]
  },
  {
   "cell_type": "code",
   "execution_count": null,
   "id": "550505fa",
   "metadata": {},
   "outputs": [],
   "source": [
    "hrData.shape"
   ]
  },
  {
   "cell_type": "code",
   "execution_count": null,
   "id": "234f6b89",
   "metadata": {},
   "outputs": [],
   "source": [
    "# archive in SQL\n",
    "\n",
    "sqliteConnection = sqlite3.connect('SQLite_Python.db')\n",
    "\n",
    "hrData.to_sql(name=\"SqliteDb_employees\", con=sqliteConnection, if_exists='append', index=False)"
   ]
  },
  {
   "cell_type": "markdown",
   "id": "c419fa9a",
   "metadata": {},
   "source": [
    "now go and check database in DB Broswer"
   ]
  },
  {
   "cell_type": "markdown",
   "id": "adb52ae9",
   "metadata": {},
   "source": [
    "Further reference: https://pynative.com/python-sqlite/"
   ]
  },
  {
   "cell_type": "markdown",
   "id": "ace251da",
   "metadata": {},
   "source": [
    "Other references:\n",
    "    \n",
    "https://pynative.com/python-sqlite-blob-insert-and-retrieve-digital-data/"
   ]
  }
 ],
 "metadata": {
  "kernelspec": {
   "display_name": "Python 3",
   "language": "python",
   "name": "python3"
  },
  "language_info": {
   "codemirror_mode": {
    "name": "ipython",
    "version": 3
   },
   "file_extension": ".py",
   "mimetype": "text/x-python",
   "name": "python",
   "nbconvert_exporter": "python",
   "pygments_lexer": "ipython3",
   "version": "3.8.8"
  }
 },
 "nbformat": 4,
 "nbformat_minor": 5
}
