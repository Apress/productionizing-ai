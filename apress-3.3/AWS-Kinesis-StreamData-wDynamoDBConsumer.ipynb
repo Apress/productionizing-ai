{
  "cells": [
    {
      "cell_type": "code",
      "execution_count": null,
      "metadata": {
        "id": "Il_5g3dbjb1h"
      },
      "outputs": [],
      "source": [
        "# if you need to install - one time run\n",
        "# %pip install boto3"
      ]
    },
    {
      "cell_type": "code",
      "execution_count": null,
      "metadata": {
        "id": "ojzyPLeljb1j"
      },
      "outputs": [],
      "source": [
        "# libraies\n",
        "\n",
        "import datetime\n",
        "import json\n",
        "import random\n",
        "import boto3 # python's AWS library\n",
        "from botocore.config import Config\n",
        "\n",
        "import numpy as np\n",
        "import matplotlib.pyplot as plt\n",
        "import matplotlib.animation as animation"
      ]
    },
    {
      "cell_type": "code",
      "execution_count": null,
      "metadata": {
        "id": "wGxa7Njkjb1k"
      },
      "outputs": [],
      "source": [
        "# Exercise\n",
        "\n",
        "# authenticate between python and AWS\n",
        "\n",
        "import AWS_credentials\n",
        "\n",
        "session = boto3.Session(\n",
        "    aws_access_key_id=AWS_credentials.ACCESS_KEY,\n",
        "    aws_secret_access_key=AWS_credentials.SECRET_KEY\n",
        ")\n",
        "\n",
        "session # check we have authenticated"
      ]
    },
    {
      "cell_type": "code",
      "execution_count": null,
      "metadata": {
        "id": "cd1YHNiqjb1k"
      },
      "outputs": [],
      "source": [
        "# AWS config\n",
        "\n",
        "my_config = Config(\n",
        "    region_name = 'eu-west-1',\n",
        "    signature_version = 'v4',\n",
        "    retries = {\n",
        "        'max_attempts': 10,\n",
        "        'mode': 'standard'\n",
        "    }\n",
        ")"
      ]
    },
    {
      "cell_type": "code",
      "execution_count": null,
      "metadata": {
        "id": "4WUWPF1rjb1l"
      },
      "outputs": [],
      "source": [
        "# define Kinesis stream\n",
        "STREAM_NAME = \"StockTradeStream\""
      ]
    },
    {
      "cell_type": "markdown",
      "metadata": {
        "id": "gMz8jv98jb1l"
      },
      "source": [
        "#### Stock Price Stream"
      ]
    },
    {
      "cell_type": "code",
      "execution_count": null,
      "metadata": {
        "id": "zND76ZMljb1l"
      },
      "outputs": [],
      "source": [
        "\n",
        "def get_data():\n",
        "    return {\n",
        "        'EVENT_TIME': datetime.datetime.now().isoformat(),\n",
        "        'TICKER': random.choice(['AAPL', 'AMZN', 'MSFT', 'INTC', 'TBV']),\n",
        "        'PRICE': int(random.random() * 100)} # coerced to integer as \n",
        "        # know DynamoDB issues with decimals\n",
        "\n",
        "def generate(stream_name, kinesis_client):\n",
        "    dynamo_db = boto3.resource('dynamodb',\n",
        "                               region_name = 'eu-west-1',     \n",
        "                                aws_access_key_id=AWS_credentials.ACCESS_KEY,\n",
        "                                aws_secret_access_key=AWS_credentials.SECRET_KEY,\n",
        "                                config=my_config)\n",
        "    table = dynamo_db.Table('StockTradesProcessor')\n",
        "    while True:\n",
        "        data = get_data() # calls the function above\n",
        "        print(data) # print the whole streaming dictionary\n",
        "        kinesis_client.put_record(\n",
        "            StreamName=stream_name,\n",
        "            Data=json.dumps(data),\n",
        "            PartitionKey=\"partitionkey\")\n",
        "        with table.batch_writer() as batch_writer:\n",
        "            batch_writer.put_item(Item=data)"
      ]
    },
    {
      "cell_type": "code",
      "execution_count": null,
      "metadata": {
        "id": "4f1DBA3cjb1m"
      },
      "outputs": [],
      "source": [
        "# Exercise - \n",
        "# a) call the generate function \n",
        "# b) authenticate with kinesis credentials\n",
        "# c) define the AWS config"
      ]
    },
    {
      "cell_type": "code",
      "execution_count": null,
      "metadata": {
        "scrolled": false,
        "id": "n4Tg8k2cjb1m"
      },
      "outputs": [],
      "source": [
        "if __name__ == '__main__':\n",
        "    generate(STREAM_NAME, boto3.client('kinesis',     \n",
        "                                       aws_access_key_id=AWS_credentials.ACCESS_KEY,\n",
        "                                       aws_secret_access_key=AWS_credentials.SECRET_KEY,\n",
        "                                       config=my_config))"
      ]
    },
    {
      "cell_type": "code",
      "execution_count": null,
      "metadata": {
        "id": "k-4NO3KMjb1n"
      },
      "outputs": [],
      "source": []
    }
  ],
  "metadata": {
    "kernelspec": {
      "display_name": "Python 3",
      "language": "python",
      "name": "python3"
    },
    "language_info": {
      "codemirror_mode": {
        "name": "ipython",
        "version": 3
      },
      "file_extension": ".py",
      "mimetype": "text/x-python",
      "name": "python",
      "nbconvert_exporter": "python",
      "pygments_lexer": "ipython3",
      "version": "3.8.5"
    },
    "colab": {
      "provenance": []
    }
  },
  "nbformat": 4,
  "nbformat_minor": 0
}