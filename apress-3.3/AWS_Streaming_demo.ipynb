{
  "cells": [
    {
      "cell_type": "code",
      "execution_count": null,
      "metadata": {
        "id": "xMHeHO_rj1LP"
      },
      "outputs": [],
      "source": [
        "\"\"\"\n",
        "Purpose\n",
        "\n",
        "Shows how to use the AWS SDK for Python (Boto3) with the Amazon Kinesis API to\n",
        "generate a data stream. This script generates data for several of the _Windows\n",
        "and Aggregation_ examples in the Amazon Kinesis Data Analytics SQL Developer Guide.\n",
        "\"\"\"\n",
        "\n",
        "import datetime\n",
        "import json\n",
        "import random\n",
        "import boto3\n",
        "from botocore.config import Config\n",
        "\n",
        "import numpy as np\n",
        "import matplotlib.pyplot as plt\n",
        "import matplotlib.animation as animation"
      ]
    },
    {
      "cell_type": "code",
      "execution_count": null,
      "metadata": {
        "id": "hGy988PTj1LQ"
      },
      "outputs": [],
      "source": [
        "# Authentication\n",
        "import AWS_credentials\n",
        "\n",
        "session = boto3.Session(\n",
        "    aws_access_key_id=AWS_credentials.ACCESS_KEY,\n",
        "    aws_secret_access_key=AWS_credentials.SECRET_KEY,\n",
        "    #aws_session_token=SESSION_TOKEN\n",
        ")"
      ]
    },
    {
      "cell_type": "code",
      "execution_count": null,
      "metadata": {
        "id": "z8WdDjlpj1LR"
      },
      "outputs": [],
      "source": [
        "# see\n",
        "# https://boto3.amazonaws.com/v1/documentation/api/latest/guide/configuration.html\n",
        "\n",
        "my_config = Config(\n",
        "    region_name = 'us-east-1',\n",
        "    signature_version = 'v4',\n",
        "    retries = {\n",
        "        'max_attempts': 10,\n",
        "        'mode': 'standard'\n",
        "    }\n",
        ")"
      ]
    },
    {
      "cell_type": "code",
      "execution_count": null,
      "metadata": {
        "id": "MjPkMyCRj1LR"
      },
      "outputs": [],
      "source": [
        "# set stream variable - note this stream has to be set up first in AWS\n",
        "# see https://docs.aws.amazon.com/streams/latest/dev/tutorial-stock-data-kplkcl-create-stream.html\n",
        "# a) set up Kinesis Stream\n",
        "# b) create IAM Policy and attached Amazon Resource Name (ARN) for Kinesis Stream from a)\n",
        "# c) create IAM user and attach Policy from b)\n",
        "\n",
        "\n",
        "STREAM_NAME = \"KinesisDataStream_demo\""
      ]
    },
    {
      "cell_type": "markdown",
      "metadata": {
        "id": "8Cz8kQUOj1LR"
      },
      "source": [
        "##### Stock Price Stream"
      ]
    },
    {
      "cell_type": "code",
      "execution_count": null,
      "metadata": {
        "id": "NLywedIjj1LS"
      },
      "outputs": [],
      "source": [
        "def get_data():\n",
        "    return {\n",
        "        'EVENT_TIME': datetime.datetime.now().isoformat(),\n",
        "        'TICKER': random.choice(['AAPL', 'AMZN', 'MSFT', 'INTC', 'TBV']),\n",
        "        'PRICE': round(random.random() * 100, 2)}\n",
        "\n",
        "def generate(stream_name, kinesis_client):\n",
        "    while True:\n",
        "        data = get_data()\n",
        "        print(data) # print the whole streaming dictionary\n",
        "        #print(data[\"PRICE\"]) # print the stock prices\n",
        "        plt.show()\n",
        "        kinesis_client.put_record(\n",
        "            StreamName=stream_name,\n",
        "            Data=json.dumps(data),\n",
        "            PartitionKey=\"partitionkey\")\n",
        "        \n",
        "        "
      ]
    },
    {
      "cell_type": "code",
      "execution_count": null,
      "metadata": {
        "id": "uiczKxvnj1LT"
      },
      "outputs": [],
      "source": [
        "if __name__ == '__main__':\n",
        "    generate(STREAM_NAME, boto3.client('kinesis',     \n",
        "                                       aws_access_key_id=AWS_credentials.ACCESS_KEY,\n",
        "                                       aws_secret_access_key=AWS_credentials.SECRET_KEY,\n",
        "                                       config=my_config))"
      ]
    },
    {
      "cell_type": "markdown",
      "metadata": {
        "id": "DJzv4CnEj1LU"
      },
      "source": [
        "##### Dymamic Chart"
      ]
    },
    {
      "cell_type": "code",
      "execution_count": null,
      "metadata": {
        "id": "ZABfiNYBj1LV"
      },
      "outputs": [],
      "source": [
        "def get_data():\n",
        "    return {\n",
        "        'EVENT_TIME': datetime.datetime.now().isoformat(),\n",
        "        'TICKER': random.choice(['AAPL', 'AMZN', 'MSFT', 'INTC', 'TBV']),\n",
        "        'PRICE': round(random.random() * 100, 2)}\n",
        "\n",
        "def animate(i):\n",
        "\n",
        "    #x = np.arange(0, 2*np.pi, 0.01)\n",
        "    #line, = ax.plot(x, np.sin(x))\n",
        "\n",
        "    #x = ['AAPL', 'AMZN', 'MSFT', 'INTC', 'TBV']\n",
        "    #line, = ax.plot(x, [100, 100,i,100,100])\n",
        "    line.set_ydata([100, 100,i,100,100])  # update the data.\n",
        "    return line,\n",
        "\n",
        "def generate(stream_name, kinesis_client):\n",
        "    while True:\n",
        "        data = get_data()\n",
        "        #print(data) # print the whole streaming dictionary\n",
        "        #print(data[\"PRICE\"]) # print the stock prices\n",
        "        animation.FuncAnimation(fig, animate(data[\"PRICE\"]), interval=20, blit=True, save_count=50)\n",
        "        #plt.plot(data[\"PRICE\"]) # chart\n",
        "        plt.show(block = False)\n",
        "        kinesis_client.put_record(\n",
        "            StreamName=stream_name,\n",
        "            Data=json.dumps(data),\n",
        "            PartitionKey=\"partitionkey\")\n",
        "        \n",
        "        "
      ]
    },
    {
      "cell_type": "code",
      "execution_count": null,
      "metadata": {
        "id": "RP5qlc7jj1LW"
      },
      "outputs": [],
      "source": [
        "# MUST RUN BELOW TO CHANGE backend to run an animation in the IPython console\n",
        "# this will create a pop up live chart when generate function above called\n",
        "\n",
        "%matplotlib qt\n",
        "\n",
        "fig, ax = plt.subplots()\n",
        "\n",
        "#x = np.arange(0, 2*np.pi, 0.01)\n",
        "#line, = ax.plot(x, np.sin(x))\n",
        "\n",
        "x = ['AAPL', 'AMZN', 'MSFT', 'INTC', 'TBV']\n",
        "line, = ax.plot(x, [100, 100,100,100,100])"
      ]
    },
    {
      "cell_type": "code",
      "execution_count": null,
      "metadata": {
        "id": "nafEUtIgj1LW"
      },
      "outputs": [],
      "source": [
        "if __name__ == '__main__':\n",
        "    generate(STREAM_NAME, boto3.client('kinesis',     \n",
        "                                       aws_access_key_id=AWS_credentials.ACCESS_KEY,\n",
        "                                       aws_secret_access_key=AWS_credentials.SECRET_KEY,\n",
        "                                       config=my_config))"
      ]
    },
    {
      "cell_type": "code",
      "execution_count": null,
      "metadata": {
        "id": "F-x9geaEj1LW"
      },
      "outputs": [],
      "source": []
    },
    {
      "cell_type": "markdown",
      "metadata": {
        "id": "iStk1Jvuj1LM"
      },
      "source": [
        "Reference:\n",
        "    \n",
        "    \n",
        "https://docs.aws.amazon.com/code-samples/latest/catalog/python-kinesis-streams-dg_stockticker.py.html"
      ]
    }
  ],
  "metadata": {
    "kernelspec": {
      "display_name": "Python 3",
      "language": "python",
      "name": "python3"
    },
    "language_info": {
      "codemirror_mode": {
        "name": "ipython",
        "version": 3
      },
      "file_extension": ".py",
      "mimetype": "text/x-python",
      "name": "python",
      "nbconvert_exporter": "python",
      "pygments_lexer": "ipython3",
      "version": "3.8.5"
    },
    "colab": {
      "provenance": []
    }
  },
  "nbformat": 4,
  "nbformat_minor": 0
}