{
 "cells": [
  {
   "cell_type": "markdown",
   "metadata": {
    "slideshow": {
     "slide_type": "slide"
    }
   },
   "source": [
    "### Stock Price Demo\n",
    "<img src=\"stockpriceprediction-medium.png\" alt=\"Stock Price Demo\" width=\"600\" height=400/>"
   ]
  },
  {
   "cell_type": "markdown",
   "metadata": {
    "slideshow": {
     "slide_type": "slide"
    }
   },
   "source": [
    "#### Import live financial data "
   ]
  },
  {
   "cell_type": "code",
   "execution_count": null,
   "metadata": {
    "slideshow": {
     "slide_type": "skip"
    }
   },
   "outputs": [],
   "source": [
    "# ONE OFF INSTALL\n",
    "# %pip install pandas-datareader yfinance mpl-finance stockstats"
   ]
  },
  {
   "cell_type": "code",
   "execution_count": null,
   "metadata": {
    "slideshow": {
     "slide_type": "slide"
    }
   },
   "outputs": [],
   "source": [
    "# import live financial data using \n",
    "# Pandas DataReader and yfinance libraries\n",
    "# see https://uk.finance.yahoo.com/ for stock prices\n",
    "\n",
    "import pandas_datareader.data as pdr\n",
    "\n",
    "# import stock price\n",
    "df_stock = pdr.get_data_yahoo(\"tsla\", start=\"2021-01-01\") # NB candlestick works best with 3 months data\n",
    "#or other stocks\n",
    "# ['tsla', msft', 'aapl', 'twtr', 'intc', 'tsm', 'goog', 'amzn', 'fb', 'nvda', 'btc-usd']\n",
    "\n",
    "# or try e.g. ethereum\n",
    "df_eth = pdr.get_data_yahoo(\"ETH-USD\", start=\"2021-01-01\") # NB candlestick works best with 3 months data\n",
    "\n"
   ]
  },
  {
   "cell_type": "code",
   "execution_count": null,
   "metadata": {
    "slideshow": {
     "slide_type": "slide"
    }
   },
   "outputs": [],
   "source": [
    "# export closing price\n",
    "df_stock_closeOnly = df_stock[\"Close\"]\n",
    "df_stock_closeOnly.to_csv(\"df_tsla.csv\")\n",
    "\n",
    "df_eth_closeOnly = df_eth[\"Close\"]\n",
    "df_eth_closeOnly.to_csv(\"df_eth.csv\")"
   ]
  },
  {
   "cell_type": "code",
   "execution_count": null,
   "metadata": {
    "slideshow": {
     "slide_type": "slide"
    }
   },
   "outputs": [],
   "source": [
    "df_stock.tail() # latest prices"
   ]
  },
  {
   "cell_type": "code",
   "execution_count": null,
   "metadata": {
    "slideshow": {
     "slide_type": "skip"
    }
   },
   "outputs": [],
   "source": [
    "import matplotlib.pyplot as plt\n",
    "\n",
    "fig = plt.figure(figsize=(15, 8))\n",
    "\n",
    "\n",
    "df_stock[[\"Open\", \"High\", \"Low\", \"Close\"]].plot()\n",
    "fig"
   ]
  },
  {
   "cell_type": "markdown",
   "metadata": {
    "slideshow": {
     "slide_type": "skip"
    }
   },
   "source": [
    "above chart is difficult to read - this is the use case for candlestick charts"
   ]
  },
  {
   "cell_type": "code",
   "execution_count": null,
   "metadata": {
    "slideshow": {
     "slide_type": "skip"
    }
   },
   "outputs": [],
   "source": [
    "# ONE OFF INSTALL\n",
    "# %pip install mplfinance\n",
    "# pip install --upgrade mplfinance\n",
    "\n",
    "# mpl_finance is no longer part of matplotlib. Install the module directly from gitHub via pip\n",
    "# pip install https://github.com/matplotlib/mpl_finance/archive/master.zip"
   ]
  },
  {
   "cell_type": "code",
   "execution_count": null,
   "metadata": {
    "slideshow": {
     "slide_type": "slide"
    }
   },
   "outputs": [],
   "source": [
    "import mplfinance as mpf\n",
    "#from mplfinance import candlestick_ohlc DEPRECATED\n",
    "import matplotlib.pyplot as plt\n",
    "\n",
    "fig = plt.figure(figsize=(10, 5))\n",
    "\n",
    "mpf.plot(df_stock, type='candle',\n",
    "             style='charles',\n",
    "             title='Apple Stock',\n",
    "                ylabel='Price ($)',\n",
    "                ylabel_lower='Shares \\nTraded',\n",
    "                volume=True, \n",
    "                mav=(3,6,9))"
   ]
  },
  {
   "cell_type": "markdown",
   "metadata": {
    "slideshow": {
     "slide_type": "slide"
    }
   },
   "source": [
    "#### Technical Indicators"
   ]
  },
  {
   "cell_type": "code",
   "execution_count": null,
   "metadata": {
    "slideshow": {
     "slide_type": "slide"
    }
   },
   "outputs": [],
   "source": [
    "from stockstats import StockDataFrame\n",
    "\n",
    "fig = plt.figure(figsize=(10, 5))\n",
    "\n",
    "stocks = StockDataFrame.retype(df_stock[[\"Open\", \"Close\", \"High\", \"Low\", \"Volume\"]])\n",
    "\n",
    "# Simple Moving Average (SMA)\n",
    "\n",
    "plt.plot(stocks[\"close_10_sma\"], color=\"b\", label=\"SMA\")\n",
    "plt.plot(df_stock.Close, color=\"g\", label=\"Close prices\")\n",
    "plt.legend(loc=\"lower right\")\n",
    "plt.show()"
   ]
  },
  {
   "cell_type": "code",
   "execution_count": null,
   "metadata": {
    "slideshow": {
     "slide_type": "slide"
    }
   },
   "outputs": [],
   "source": [
    "# Exponential Moving Average (EMA)\n",
    "\n",
    "fig = plt.figure(figsize=(10, 5))\n",
    "\n",
    "plt.plot(stocks[\"close_10_sma\"], color=\"b\", label=\"SMA\") # plotting SMA\n",
    "plt.plot(stocks[\"close_10_ema\"], color=\"k\", label=\"EMA\")\n",
    "plt.plot(df_stock.Close, color=\"g\", label=\"Close prices\") # plotting close prices\n",
    "plt.legend(loc=\"lower right\")\n",
    "plt.show()"
   ]
  },
  {
   "cell_type": "code",
   "execution_count": null,
   "metadata": {
    "slideshow": {
     "slide_type": "slide"
    }
   },
   "outputs": [],
   "source": [
    "# Moving Average Convergence/Divergence (MACD)\n",
    "\n",
    "fig = plt.figure(figsize=(10, 5))\n",
    "\n",
    "plt.plot(stocks[\"macd\"], color=\"b\", label=\"MACD\")\n",
    "plt.plot(stocks[\"macds\"], color=\"g\", label=\"Signal Line\")\n",
    "plt.legend(loc=\"lower right\")\n",
    "plt.show()"
   ]
  },
  {
   "cell_type": "markdown",
   "metadata": {
    "slideshow": {
     "slide_type": "skip"
    }
   },
   "source": [
    "Further References\n",
    "\n",
    "https://www.thepythoncode.com/article/introduction-to-finance-and-technical-indicators-with-python"
   ]
  }
 ],
 "metadata": {
  "celltoolbar": "Slideshow",
  "kernelspec": {
   "display_name": "Python 3",
   "language": "python",
   "name": "python3"
  },
  "language_info": {
   "codemirror_mode": {
    "name": "ipython",
    "version": 3
   },
   "file_extension": ".py",
   "mimetype": "text/x-python",
   "name": "python",
   "nbconvert_exporter": "python",
   "pygments_lexer": "ipython3",
   "version": "3.8.8"
  },
  "rise": {
   "autolaunch": true,
   "theme": "solarized"
  }
 },
 "nbformat": 4,
 "nbformat_minor": 4
}
