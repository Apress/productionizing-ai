{
 "cells": [
  {
   "cell_type": "code",
   "execution_count": null,
   "id": "acc96d8c",
   "metadata": {},
   "outputs": [],
   "source": [
    "# ONE OFF INSTALL\n",
    "# %pip install dash\n",
    "# %pip install jupyter-dash JUST STICK WITH DASH FOR NOW"
   ]
  },
  {
   "cell_type": "code",
   "execution_count": 2,
   "id": "c73efd96",
   "metadata": {},
   "outputs": [
    {
     "name": "stdout",
     "output_type": "stream",
     "text": [
      "Dash is running on http://127.0.0.1:8050/\n",
      "\n",
      "Dash is running on http://127.0.0.1:8050/\n",
      "\n",
      " * Serving Flask app \"__main__\" (lazy loading)\n",
      " * Environment: production\n",
      "   WARNING: This is a development server. Do not use it in a production deployment.\n",
      "   Use a production WSGI server instead.\n",
      " * Debug mode: off\n"
     ]
    },
    {
     "name": "stderr",
     "output_type": "stream",
     "text": [
      "C:\\Users\\Barry Walsh\\AppData\\Roaming\\Python\\Python38\\site-packages\\dash\\resources.py:63: UserWarning: You have set your config to `serve_locally=True` but A local version of https://codepen.io/chriddyp/pen/bWLwgP.css is not available.\n",
      "If you added this file with `app.scripts.append_script` or `app.css.append_css`, use `external_scripts` or `external_stylesheets` instead.\n",
      "See https://dash.plot.com/external-resources\n",
      "  warnings.warn(\n"
     ]
    },
    {
     "name": "stdout",
     "output_type": "stream",
     "text": [
      "Exception on /_dash-update-component [POST]\n",
      "Traceback (most recent call last):\n",
      "  File \"C:\\Users\\bwalsh\\anaconda3\\lib\\site-packages\\flask\\app.py\", line 2447, in wsgi_app\n",
      "    response = self.full_dispatch_request()\n",
      "  File \"C:\\Users\\bwalsh\\anaconda3\\lib\\site-packages\\flask\\app.py\", line 1952, in full_dispatch_request\n",
      "    rv = self.handle_user_exception(e)\n",
      "  File \"C:\\Users\\bwalsh\\anaconda3\\lib\\site-packages\\flask\\app.py\", line 1821, in handle_user_exception\n",
      "    reraise(exc_type, exc_value, tb)\n",
      "  File \"C:\\Users\\bwalsh\\anaconda3\\lib\\site-packages\\flask\\_compat.py\", line 39, in reraise\n",
      "    raise value\n",
      "  File \"C:\\Users\\bwalsh\\anaconda3\\lib\\site-packages\\flask\\app.py\", line 1950, in full_dispatch_request\n",
      "    rv = self.dispatch_request()\n",
      "  File \"C:\\Users\\bwalsh\\anaconda3\\lib\\site-packages\\flask\\app.py\", line 1936, in dispatch_request\n",
      "    return self.view_functions[rule.endpoint](**req.view_args)\n",
      "  File \"C:\\Users\\Barry Walsh\\AppData\\Roaming\\Python\\Python38\\site-packages\\dash\\dash.py\", line 1079, in dispatch\n",
      "    response.set_data(func(*args, outputs_list=outputs_list))\n",
      "  File \"C:\\Users\\Barry Walsh\\AppData\\Roaming\\Python\\Python38\\site-packages\\dash\\dash.py\", line 1010, in add_context\n",
      "    output_value = func(*args, **kwargs)  # %% callback invoked %%\n",
      "  File \"<ipython-input-2-8896b5f13918>\", line 43, in update_text\n",
      "    s = df[df['storenum'] == hoverData['points'][0]['customdata']]\n",
      "TypeError: 'NoneType' object is not subscriptable\n",
      "Exception on /_dash-update-component [POST]\n",
      "Traceback (most recent call last):\n",
      "  File \"C:\\Users\\bwalsh\\anaconda3\\lib\\site-packages\\flask\\app.py\", line 2447, in wsgi_app\n",
      "    response = self.full_dispatch_request()\n",
      "  File \"C:\\Users\\bwalsh\\anaconda3\\lib\\site-packages\\flask\\app.py\", line 1952, in full_dispatch_request\n",
      "    rv = self.handle_user_exception(e)\n",
      "  File \"C:\\Users\\bwalsh\\anaconda3\\lib\\site-packages\\flask\\app.py\", line 1821, in handle_user_exception\n",
      "    reraise(exc_type, exc_value, tb)\n",
      "  File \"C:\\Users\\bwalsh\\anaconda3\\lib\\site-packages\\flask\\_compat.py\", line 39, in reraise\n",
      "    raise value\n",
      "  File \"C:\\Users\\bwalsh\\anaconda3\\lib\\site-packages\\flask\\app.py\", line 1950, in full_dispatch_request\n",
      "    rv = self.dispatch_request()\n",
      "  File \"C:\\Users\\bwalsh\\anaconda3\\lib\\site-packages\\flask\\app.py\", line 1936, in dispatch_request\n",
      "    return self.view_functions[rule.endpoint](**req.view_args)\n",
      "  File \"C:\\Users\\Barry Walsh\\AppData\\Roaming\\Python\\Python38\\site-packages\\dash\\dash.py\", line 1079, in dispatch\n",
      "    response.set_data(func(*args, outputs_list=outputs_list))\n",
      "  File \"C:\\Users\\Barry Walsh\\AppData\\Roaming\\Python\\Python38\\site-packages\\dash\\dash.py\", line 1010, in add_context\n",
      "    output_value = func(*args, **kwargs)  # %% callback invoked %%\n",
      "  File \"<ipython-input-2-8896b5f13918>\", line 43, in update_text\n",
      "    s = df[df['storenum'] == hoverData['points'][0]['customdata']]\n",
      "TypeError: 'NoneType' object is not subscriptable\n"
     ]
    },
    {
     "name": "stderr",
     "output_type": "stream",
     "text": [
      "C:\\Users\\Barry Walsh\\AppData\\Roaming\\Python\\Python38\\site-packages\\dash\\resources.py:63: UserWarning: You have set your config to `serve_locally=True` but A local version of https://codepen.io/chriddyp/pen/bWLwgP.css is not available.\n",
      "If you added this file with `app.scripts.append_script` or `app.css.append_css`, use `external_scripts` or `external_stylesheets` instead.\n",
      "See https://dash.plot.com/external-resources\n",
      "  warnings.warn(\n"
     ]
    }
   ],
   "source": [
    "import dash\n",
    "import dash_core_components as dcc\n",
    "import dash_html_components as html\n",
    "import plotly.graph_objs as go\n",
    "import pandas as pd\n",
    "\n",
    "app = dash.Dash()\n",
    "\n",
    "df = pd.read_csv(\n",
    "    'https://raw.githubusercontent.com/'\n",
    "    'plotly/datasets/master/'\n",
    "    '1962_2006_walmart_store_openings.csv')\n",
    "\n",
    "app.layout = html.Div([\n",
    "    html.H1('Walmart Store Openings'),\n",
    "    html.Div(id='text-content'),\n",
    "    dcc.Graph(id='map', figure={\n",
    "        'data': [{\n",
    "            'lat': df['LAT'],\n",
    "            'lon': df['LON'],\n",
    "            'marker': {\n",
    "                'color': df['YEAR'],\n",
    "                'size': 8,\n",
    "                'opacity': 0.6\n",
    "            },\n",
    "            'customdata': df['storenum'],\n",
    "            'type': 'scattermapbox'\n",
    "        }],\n",
    "        'layout': {\n",
    "            'mapbox': {\n",
    "                'accesstoken': 'pk.eyJ1IjoiY2hyaWRkeXAiLCJhIjoiY2ozcGI1MTZ3MDBpcTJ3cXR4b3owdDQwaCJ9.8jpMunbKjdq1anXwU5gxIw'\n",
    "            },\n",
    "            'hovermode': 'closest',\n",
    "            'margin': {'l': 0, 'r': 0, 'b': 0, 't': 0}\n",
    "        }\n",
    "    })\n",
    "])\n",
    "\n",
    "@app.callback(\n",
    "    dash.dependencies.Output('text-content', 'children'),\n",
    "    [dash.dependencies.Input('map', 'hoverData')])\n",
    "def update_text(hoverData):\n",
    "    s = df[df['storenum'] == hoverData['points'][0]['customdata']]\n",
    "    return html.H3(\n",
    "        'The {}, {} {} opened in {}'.format(\n",
    "            s.iloc[0]['STRCITY'],\n",
    "            s.iloc[0]['STRSTATE'],\n",
    "            s.iloc[0]['type_store'],\n",
    "            s.iloc[0]['YEAR']\n",
    "        )\n",
    "    )\n",
    "\n",
    "app.css.append_css({\n",
    "    'external_url': 'https://codepen.io/chriddyp/pen/bWLwgP.css'\n",
    "})\n",
    "\n",
    "if __name__ == '__main__':\n",
    "    app.run_server(debug=False) # changed from debug=True to False"
   ]
  },
  {
   "cell_type": "code",
   "execution_count": null,
   "id": "4674c30a",
   "metadata": {},
   "outputs": [],
   "source": []
  }
 ],
 "metadata": {
  "kernelspec": {
   "display_name": "Python 3",
   "language": "python",
   "name": "python3"
  },
  "language_info": {
   "codemirror_mode": {
    "name": "ipython",
    "version": 3
   },
   "file_extension": ".py",
   "mimetype": "text/x-python",
   "name": "python",
   "nbconvert_exporter": "python",
   "pygments_lexer": "ipython3",
   "version": "3.8.8"
  }
 },
 "nbformat": 4,
 "nbformat_minor": 5
}
