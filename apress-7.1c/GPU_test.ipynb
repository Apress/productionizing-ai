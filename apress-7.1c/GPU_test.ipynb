{
  "cells": [
    {
      "cell_type": "markdown",
      "metadata": {
        "id": "o_s7_G2dWG6U"
      },
      "source": [
        "### Colab GPU Performance Test"
      ]
    },
    {
      "cell_type": "markdown",
      "metadata": {
        "id": "AyHgP-8GW_rp"
      },
      "source": [
        "![GPU.png](data:image/jpeg;base64,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)"
      ]
    },
    {
      "cell_type": "markdown",
      "metadata": {
        "id": "tb77nSxEQApj"
      },
      "source": [
        "1. download API key from Kaggle (kaggle.json file)\n",
        "2. drag and drop kaggle.json to Colab default (content) folder\n",
        "3. run code below to copy to a root > .kaggle folder. NB the last command ensures the API Key is not readable by others on the system"
      ]
    },
    {
      "cell_type": "code",
      "execution_count": null,
      "metadata": {
        "id": "ynkiFO5aPcg9"
      },
      "outputs": [],
      "source": [
        "! mkdir ~/.kaggle\n",
        "! cp kaggle.json ~/.kaggle/\n",
        "! chmod 600 /root/.kaggle/kaggle.json"
      ]
    },
    {
      "cell_type": "markdown",
      "source": [
        "4. Connect directly to a BIG dataset on Kaggle. \n",
        "\n",
        "The code below uses the dataset from here:\n",
        "\n",
        "https://www.kaggle.com/datasets/meowmeowmeowmeowmeow/gtsrb-german-traffic-sign\n",
        "\n",
        "NB this is a 350 MB dataset with 50,000 images across 40 different classes. - try step 4 and 5 first with Runtime set to no hardware accelerator (i.e. CPU), then after completion (or after interrupting the code if taking too long), go to Runtime > Disconnect and delete runtime \n",
        "also go to Edit > Clear all Outputs\n",
        "\n",
        "then select Runtime > Change runtime type and choose GPU. Once the runtime is ready/available, run the code through and notice the speed difference in steps 4 and 5"
      ],
      "metadata": {
        "id": "PCHL-L3OSztb"
      }
    },
    {
      "cell_type": "code",
      "execution_count": null,
      "metadata": {
        "id": "Ow2mk9U_QTJu"
      },
      "outputs": [],
      "source": [
        "!kaggle datasets download -d meowmeowmeowmeowmeow/gtsrb-german-traffic-sign"
      ]
    },
    {
      "cell_type": "markdown",
      "source": [
        "5. Unzip the files to a \"review\" folder - the unzip time is much faster using a GPU"
      ],
      "metadata": {
        "id": "_Ugmpo0FS5d9"
      }
    },
    {
      "cell_type": "code",
      "execution_count": null,
      "metadata": {
        "id": "_PmyKZHTpoDx"
      },
      "outputs": [],
      "source": [
        "!unzip gtsrb-german-traffic-sign.zip -d review"
      ]
    },
    {
      "cell_type": "code",
      "execution_count": null,
      "metadata": {
        "id": "GKGP4fDGRclX"
      },
      "outputs": [],
      "source": []
    }
  ],
  "metadata": {
    "celltoolbar": "Slideshow",
    "colab": {
      "collapsed_sections": [],
      "provenance": []
    },
    "kernelspec": {
      "display_name": "Python 3",
      "language": "python",
      "name": "python3"
    },
    "language_info": {
      "codemirror_mode": {
        "name": "ipython",
        "version": 3
      },
      "file_extension": ".py",
      "mimetype": "text/x-python",
      "name": "python",
      "nbconvert_exporter": "python",
      "pygments_lexer": "ipython3",
      "version": "3.8.3"
    },
    "rise": {
      "autolaunch": true,
      "theme": "solarized"
    },
    "accelerator": "GPU"
  },
  "nbformat": 4,
  "nbformat_minor": 0
}