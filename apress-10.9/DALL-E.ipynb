{
  "nbformat": 4,
  "nbformat_minor": 0,
  "metadata": {
    "colab": {
      "provenance": []
    },
    "kernelspec": {
      "name": "python3",
      "display_name": "Python 3"
    },
    "language_info": {
      "name": "python"
    }
  },
  "cells": [
    {
      "cell_type": "markdown",
      "source": [
        "<img src=\"https://cdn.openai.com/outpainting/draft-20220826a/girl-with-a-pearl-earring.jpeg\" alt=\"Source: https://gpt3demo.com/\" width=\"50%\"/>"
      ],
      "metadata": {
        "id": "yS8-AROZ8yuj"
      }
    },
    {
      "cell_type": "code",
      "source": [
        "!pip install openai"
      ],
      "metadata": {
        "id": "5QT2cmpa0HN9"
      },
      "execution_count": null,
      "outputs": []
    },
    {
      "cell_type": "code",
      "source": [
        "import os\n",
        "import openai\n",
        "\n",
        "import openai_credentials as oac\n",
        "\n",
        "import pandas as pd"
      ],
      "metadata": {
        "id": "XpACO9J20MtW"
      },
      "execution_count": null,
      "outputs": []
    },
    {
      "cell_type": "markdown",
      "source": [
        "NB make sure to drag and drop OpenAI credentials file to root Colab temp storage (folder icon on LHS)"
      ],
      "metadata": {
        "id": "AJHgrrdT1UAi"
      }
    },
    {
      "cell_type": "code",
      "source": [
        "openai.api_key = oac.OPENAI_API_KEY\n",
        "\n",
        "openai.Model.list() # available models"
      ],
      "metadata": {
        "id": "_6BQWtp2QOXN"
      },
      "execution_count": null,
      "outputs": []
    },
    {
      "cell_type": "markdown",
      "source": [
        "NB below requires a paid account. Go to link below and select \"Create Paid Account\"\n",
        "\n",
        "https://beta.openai.com/account/billing/overview\n",
        "\n"
      ],
      "metadata": {
        "id": "xk-OBjlod3gt"
      }
    },
    {
      "cell_type": "markdown",
      "source": [
        "#### Example Application"
      ],
      "metadata": {
        "id": "RcC9J9WZ2E9T"
      }
    },
    {
      "cell_type": "code",
      "source": [
        "from IPython.display import IFrame\n",
        "\n",
        "response = openai.Image.create(\n",
        "  prompt=\"cow holding frying pan\",\n",
        "  n=1,\n",
        "  size=\"512x512\"\n",
        ")\n",
        "image_url = response['data'][0]['url']\n",
        "\n",
        "IFrame(src=image_url, width=900, height=600)"
      ],
      "metadata": {
        "id": "7ArTAr5tz-Il"
      },
      "execution_count": null,
      "outputs": []
    },
    {
      "cell_type": "code",
      "source": [],
      "metadata": {
        "id": "C49uKUiUN9am"
      },
      "execution_count": null,
      "outputs": []
    },
    {
      "cell_type": "markdown",
      "source": [
        "Source Reference with minor changes: \n",
        "\n",
        "https://beta.openai.com/docs/guides/images/usage"
      ],
      "metadata": {
        "id": "Mtxr8gezz_dI"
      }
    }
  ]
}