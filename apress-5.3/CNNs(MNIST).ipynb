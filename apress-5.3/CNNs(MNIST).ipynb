{
  "nbformat": 4,
  "nbformat_minor": 0,
  "metadata": {
    "colab": {
      "name": "CNNs(MNIST).ipynb",
      "provenance": [],
      "collapsed_sections": [],
      "toc_visible": true
    },
    "kernelspec": {
      "name": "python3",
      "display_name": "Python 3"
    },
    "language_info": {
      "name": "python"
    }
  },
  "cells": [
    {
      "cell_type": "markdown",
      "source": [
        "GOAL: Build a Deep Learning Model (CNN) to predict whether handwritten images are the numbers 0, 1, 2,...,9"
      ],
      "metadata": {
        "id": "IQSXmqchWiAL"
      }
    },
    {
      "cell_type": "code",
      "execution_count": null,
      "metadata": {
        "id": "G0xkwGNmWYnZ"
      },
      "outputs": [],
      "source": [
        "import matplotlib.pyplot as plt\n",
        "import tensorflow as tf"
      ]
    },
    {
      "cell_type": "markdown",
      "source": [
        "#### Data Import"
      ],
      "metadata": {
        "id": "yKy57riFZ-gV"
      }
    },
    {
      "cell_type": "code",
      "source": [
        "# import the image data into dataframes\n",
        "(x_train, y_train), (x_test, y_test) = tf.keras.datasets.mnist.load_data()"
      ],
      "metadata": {
        "id": "FpX3o80cZw08"
      },
      "execution_count": null,
      "outputs": []
    },
    {
      "cell_type": "markdown",
      "source": [
        "#### EDA (Exploratory Data Analysis)"
      ],
      "metadata": {
        "id": "IMb2TZ7Ba0f7"
      }
    },
    {
      "cell_type": "code",
      "source": [
        "# some basic checks\n",
        "x_train.shape"
      ],
      "metadata": {
        "id": "ps1bIwv5at_I"
      },
      "execution_count": null,
      "outputs": []
    },
    {
      "cell_type": "markdown",
      "source": [
        "this tells us we have 60,000 images each of 28*28 pixels"
      ],
      "metadata": {
        "id": "QUeFl-gRa-4v"
      }
    },
    {
      "cell_type": "code",
      "source": [
        "x_test.shape"
      ],
      "metadata": {
        "id": "kl08edmFa8rW"
      },
      "execution_count": null,
      "outputs": []
    },
    {
      "cell_type": "markdown",
      "source": [
        "what about the images themselves ?"
      ],
      "metadata": {
        "id": "pxixwFgQbpBE"
      }
    },
    {
      "cell_type": "code",
      "source": [
        "image_index = 3466 # any number between 0 and 59,999 (so we can choose from the TRAINING set)\n",
        "\n",
        "plt.imshow(x_train[image_index], cmap = \"Greys\")"
      ],
      "metadata": {
        "id": "WFNQd1erbt6_"
      },
      "execution_count": null,
      "outputs": []
    },
    {
      "cell_type": "code",
      "source": [
        "# actual number classification\n",
        "y_train[image_index]"
      ],
      "metadata": {
        "id": "FjizO9sfcYOm"
      },
      "execution_count": null,
      "outputs": []
    },
    {
      "cell_type": "code",
      "source": [
        "# Exercise - go ahead and check a few images in the TEST set"
      ],
      "metadata": {
        "id": "4r9A_x9hccTC"
      },
      "execution_count": null,
      "outputs": []
    },
    {
      "cell_type": "code",
      "source": [
        "image_index = 3466 # any number between 0 and 9,999 (so we can choose from the TRAINING set)\n",
        "\n",
        "plt.imshow(x_test[image_index], cmap = \"Greys\")"
      ],
      "metadata": {
        "id": "OseWAxozep5w"
      },
      "execution_count": null,
      "outputs": []
    },
    {
      "cell_type": "code",
      "source": [
        "# actual number classification\n",
        "y_test[image_index]"
      ],
      "metadata": {
        "id": "cLiiCG0yev7j"
      },
      "execution_count": null,
      "outputs": []
    },
    {
      "cell_type": "markdown",
      "source": [
        "#### Data Wrangling"
      ],
      "metadata": {
        "id": "SDd-0YMufAWJ"
      }
    },
    {
      "cell_type": "markdown",
      "source": [
        "Data prep for Deep Learning requires a number of pre-processes:\n",
        "\n",
        "1. reshaping the dataset\n",
        "2. convert pixel values to float (decimals)\n",
        "3. normalise (scale) the RGB colour codes"
      ],
      "metadata": {
        "id": "WXCBm6vrfK-S"
      }
    },
    {
      "cell_type": "code",
      "source": [
        "# STEP 1 reshape the underlying data for the images (adds a dimension) so that we can work with the Keras API \n",
        "# this also effectively turns our input training data into a TENSOR\n",
        "x_train_rs = x_train.reshape(x_train.shape[0],28,28,1) # adding a dimension"
      ],
      "metadata": {
        "id": "gkGHEEvqes1t"
      },
      "execution_count": null,
      "outputs": []
    },
    {
      "cell_type": "code",
      "source": [
        "# aside - what does x_train_rs look like ?\n",
        "x_train_rs[image_index]"
      ],
      "metadata": {
        "id": "2BzT2LAmiwZ5"
      },
      "execution_count": null,
      "outputs": []
    },
    {
      "cell_type": "code",
      "source": [
        "# STEP 2 convert pixel values to float (decimals)\n",
        "x_train_fl = x_train_rs.astype(\"float32\")"
      ],
      "metadata": {
        "id": "rUhRN3dlgooB"
      },
      "execution_count": null,
      "outputs": []
    },
    {
      "cell_type": "code",
      "source": [
        "# STEP 3 normalise (scale) the RGB colour codes by dividing by the number of RGB \n",
        "# (red, green and blue) values (255)\n",
        "x_train_nm = x_train_fl / 255"
      ],
      "metadata": {
        "id": "1B9XMhlSg4n1"
      },
      "execution_count": null,
      "outputs": []
    },
    {
      "cell_type": "code",
      "source": [
        "# quick check\n",
        "x_train_nm.shape"
      ],
      "metadata": {
        "id": "nRw14zohhIRs"
      },
      "execution_count": null,
      "outputs": []
    },
    {
      "cell_type": "code",
      "source": [
        "# how does tensorflow convert a single image into a tensor format ??\n",
        "x_train_nm[image_index]"
      ],
      "metadata": {
        "id": "9uGk2mNWhMlV"
      },
      "execution_count": null,
      "outputs": []
    },
    {
      "cell_type": "code",
      "source": [
        "# Exercise -\n",
        "# a) perform the same data wrangling steps on the TEST set\n",
        "# b) display the image and the (normalised) tensor for TEST image 547"
      ],
      "metadata": {
        "id": "XSpyzXI4hc90"
      },
      "execution_count": null,
      "outputs": []
    },
    {
      "cell_type": "code",
      "source": [
        "# a) perform the same data wrangling steps on the TEST set\n",
        "\n",
        "# STEP 1 reshape the underlying data for the images (adds a dimension) so that we can work with the Keras API \n",
        "# this also effectively turns our input testing data into a TENSOR\n",
        "x_test_rs = x_test.reshape(x_test.shape[0],28,28,1) # adding a dimension\n",
        "# aside - what does x_test_rs look like ?\n",
        "x_test_rs[image_index]\n",
        "# STEP 2 convert pixel values to float (decimals)\n",
        "x_test_fl = x_test_rs.astype(\"float32\")\n",
        "# STEP 3 normalise (scale) the RGB colour codes by dividing by the number of RGB \n",
        "# (red, green and blue) values (255)\n",
        "x_test_nm = x_test_fl / 255"
      ],
      "metadata": {
        "id": "y0bjUUrslThO"
      },
      "execution_count": null,
      "outputs": []
    },
    {
      "cell_type": "code",
      "source": [
        "# b) display the image and the (normalised) tensor for TEST image 547\n",
        "plt.imshow(x_test[547], cmap = \"Greys\")"
      ],
      "metadata": {
        "id": "MZyEYadDmt71"
      },
      "execution_count": null,
      "outputs": []
    },
    {
      "cell_type": "code",
      "source": [
        "x_test_nm[547]"
      ],
      "metadata": {
        "id": "8-NLWsPVm0gR"
      },
      "execution_count": null,
      "outputs": []
    },
    {
      "cell_type": "markdown",
      "source": [
        "#### Building and Running the CNN"
      ],
      "metadata": {
        "id": "ALaiXPJYsaJ4"
      }
    },
    {
      "cell_type": "code",
      "source": [
        "# BUILD / define the model (STEP 1)\n",
        "from tensorflow.keras import layers, models\n",
        "from tensorflow.keras.layers import Dense, Conv2D, Flatten, Dropout, MaxPooling2D # types of hidden layers in CNN\n",
        "\n",
        "myModel = models.Sequential() # sequential model setup\n",
        "myModel.add(layers.Conv2D(28, kernel_size = (3,3), input_shape = (28,28,1))) # 1st convolutional hidden layer\n",
        "myModel.add(layers.MaxPooling2D(pool_size = (2,2))) # pooling layer for \"down-sampling\" (for preventing overfitting)\n",
        "myModel.add(Flatten()) # flattens tensor into array\n",
        "myModel.add(layers.Dense(128, activation = tf.nn.relu)) # dense layer with RELU activation\n",
        "myModel.add(layers.Dropout(0.2)) # helps with overfitting (we exclude some random data from the previous layer)\n",
        "myModel.add(layers.Dense(10, activation = tf.nn.softmax)) # dense layer (LOGITS) with softmax activation"
      ],
      "metadata": {
        "id": "hRE5If6CsZf0"
      },
      "execution_count": null,
      "outputs": []
    },
    {
      "cell_type": "code",
      "source": [
        "# Exercise - see if you COMPILE the model (STEP 2)\n",
        "# and FIT the model (i.e. train STEP 3) "
      ],
      "metadata": {
        "id": "AwhkBIz_wzwf"
      },
      "execution_count": null,
      "outputs": []
    },
    {
      "cell_type": "code",
      "source": [
        "# COMPILE the model (STEP 2)\n",
        "# we use adam is an enhanced gradient descent algorithm\n",
        "myModel.compile(optimizer=\"adam\", \n",
        "              loss=\"sparse_categorical_crossentropy\",\n",
        "              metrics = \"accuracy\")\n",
        "\n",
        "# FIT the model (i.e. train STEP 3)\n",
        "# NB default batch_size is 32\n",
        "myModel.fit(x_train_nm, y_train, epochs=10)"
      ],
      "metadata": {
        "id": "JdDEWc57zBd_"
      },
      "execution_count": null,
      "outputs": []
    },
    {
      "cell_type": "markdown",
      "source": [
        "across 10 epochs (10 times thru the 60,000 training images), we have a loss of 0.02 (close to zero) and accuracy of 0.9933 (close to 1) - a good model on the TRAINING set.\n",
        "\n",
        "We now need to check performance on the TEST set"
      ],
      "metadata": {
        "id": "dDd2aBCJ2Gk6"
      }
    },
    {
      "cell_type": "code",
      "source": [
        "# SETP 4 Model EValuation (on the TEST set)\n",
        "myModel.evaluate(x_test_nm, y_test)"
      ],
      "metadata": {
        "id": "UncV2Sbb2Vr6"
      },
      "execution_count": null,
      "outputs": []
    },
    {
      "cell_type": "markdown",
      "source": [
        "313 passes on the TEST set (b/c we have 10,000 images and batch_size is 32)\n",
        "\n",
        "TEST performance is also good: 0.06 loss and 0.98 accuracy"
      ],
      "metadata": {
        "id": "j3uR1cR-27z4"
      }
    },
    {
      "cell_type": "markdown",
      "source": [
        "#### Performance Benchmarking"
      ],
      "metadata": {
        "id": "iaaOzrMQ2-HU"
      }
    },
    {
      "cell_type": "code",
      "source": [
        "# Exercise \n",
        "\n",
        "# a) see if you can PREDICT (STEP 5) using the trained model on image 878"
      ],
      "metadata": {
        "id": "DnzqhwMz3Gwo"
      },
      "execution_count": null,
      "outputs": []
    },
    {
      "cell_type": "code",
      "source": [
        "allPreds = myModel.predict(x_test_nm) # all predictions on the test set"
      ],
      "metadata": {
        "id": "rw5ZyoZnZ8b7"
      },
      "execution_count": null,
      "outputs": []
    },
    {
      "cell_type": "code",
      "source": [
        "allPreds[878] # the prediction for test image 878"
      ],
      "metadata": {
        "id": "myTEChfRaM7u"
      },
      "execution_count": null,
      "outputs": []
    },
    {
      "cell_type": "markdown",
      "source": [
        "above is a PROBABILITY ARRAY which shows the probability that the image is the number 0, 1,...,9"
      ],
      "metadata": {
        "id": "6OH1YeTqaXz3"
      }
    },
    {
      "cell_type": "code",
      "source": [
        "# easier way to get straight to the PREDICTED classification\n",
        "allPreds[878].argmax() # argmax takes the index of the highest value from the probability array"
      ],
      "metadata": {
        "id": "8LLYeTKga7zt"
      },
      "execution_count": null,
      "outputs": []
    },
    {
      "cell_type": "code",
      "source": [
        "# Exercise (continued) -\n",
        "\n",
        "# b) compare the prediction with the actual classification (y_test)\n",
        "# c) isolate all the INCORRECT image predictions as a list"
      ],
      "metadata": {
        "id": "ZpU7bAaTb6Qo"
      },
      "execution_count": null,
      "outputs": []
    },
    {
      "cell_type": "code",
      "source": [
        "# b) compare the prediction with the actual classification (y_test)\n",
        "y_test[878]"
      ],
      "metadata": {
        "id": "iXrWD4b3fATL"
      },
      "execution_count": null,
      "outputs": []
    },
    {
      "cell_type": "markdown",
      "source": [
        "so image no. 878 was CORRECTLY predicted as the number 8"
      ],
      "metadata": {
        "id": "6dRLJ9tQfICj"
      }
    },
    {
      "cell_type": "code",
      "source": [
        "plt.imshow(x_test[878], cmap = \"Greys\") # view the actual image"
      ],
      "metadata": {
        "id": "Mz0vtgU2fFRX"
      },
      "execution_count": null,
      "outputs": []
    },
    {
      "cell_type": "code",
      "source": [
        "# c) isolate all the INCORRECT image predictions as a list\n",
        "\n",
        "myErrs = [] # initialise a list to capture INCORRECT predictions\n",
        "\n",
        "# loop over all the TEST images\n",
        "for i in range(0,10000):\n",
        "  # if statement which identifies INCORRECT predictions\n",
        "  if y_test[i] != allPreds.argmax(axis = 1)[i]:\n",
        "    myErrs.append(i)\n",
        "\n",
        "myErrs # indices of incorrectly predicted images"
      ],
      "metadata": {
        "id": "v6kgibjafUP_"
      },
      "execution_count": null,
      "outputs": []
    },
    {
      "cell_type": "code",
      "source": [
        "# how many did we get wrong ?\n",
        "len(myErrs)"
      ],
      "metadata": {
        "id": "IZ6OztxHgAPm"
      },
      "execution_count": null,
      "outputs": []
    },
    {
      "cell_type": "code",
      "source": [
        "# check one of the incorrect predictions\n",
        "y_test[4123] # actual classifcation"
      ],
      "metadata": {
        "id": "Pvq8vQSggUXp"
      },
      "execution_count": null,
      "outputs": []
    },
    {
      "cell_type": "code",
      "source": [
        "allPreds[4123].argmax()"
      ],
      "metadata": {
        "id": "G-h2eNEygrYl"
      },
      "execution_count": null,
      "outputs": []
    },
    {
      "cell_type": "code",
      "source": [
        "# how does the image look ?\n",
        "plt.imshow(x_test[4123], cmap = \"Greys\")"
      ],
      "metadata": {
        "id": "NwxE8uIKgzj8"
      },
      "execution_count": null,
      "outputs": []
    },
    {
      "cell_type": "markdown",
      "source": [
        "finally lets take a look at a confusion matrix representation of test set performance..."
      ],
      "metadata": {
        "id": "uECrdo2YA1NE"
      }
    },
    {
      "cell_type": "code",
      "source": [
        "# Confusion Matrix\n",
        "\n",
        "# function to plot the confusion matrix below\n",
        "\n",
        "def plot_confusion_matrix(cm, \n",
        "                          classes, \n",
        "                          figname, \n",
        "                          normalize=False, \n",
        "                          title='Confusion matrix',\n",
        "                          cmap=plt.cm.Blues):\n",
        "    \"\"\"\n",
        "    This function prints and plots the confusion matrix.\n",
        "    Normalization can be applied by setting `normalize=True`.\n",
        "    \"\"\"\n",
        "    import itertools\n",
        "    \n",
        "    # show the confusion matrix as RELATIVE or ABSOLUTE\n",
        "    if normalize:\n",
        "        cm = cm.astype('float') / cm.sum(axis=1)[:, np.newaxis]\n",
        "        print(\"Normalized confusion matrix\")\n",
        "    else:\n",
        "        print('Confusion matrix, without normalization')\n",
        "        \n",
        "    plt.figure(figsize=(8,8)) # 8*8 inches\n",
        "    plt.imshow(cm, interpolation='nearest', cmap=cmap)\n",
        "    plt.title(title)\n",
        "\n",
        "    #plt.colorbar()\n",
        "    tick_marks = np.arange(len(classes))\n",
        "    plt.xticks(tick_marks, classes, rotation=90)\n",
        "    plt.yticks(tick_marks, classes)\n",
        "    fmt = '.2f' if normalize else 'd' # if showing a RELATIVE confusion matrix, then show values to 2 DPs\n",
        "    thresh = cm.max() / 2.\n",
        "\n",
        "    # display of the confusion matrix \"squares\"\n",
        "    for i, j in itertools.product(range(cm.shape[0]), range(cm.shape[1])):\n",
        "        plt.text(j, i, format(cm[i, j], fmt),\n",
        "        horizontalalignment=\"center\",\n",
        "        color=\"white\" if cm[i, j] > thresh else \"black\")\n",
        "\n",
        "    plt.ylabel('True label')\n",
        "    plt.xlabel('Predicted label')\n",
        "    plt.tight_layout()\n",
        "    plt.savefig(figname)"
      ],
      "metadata": {
        "id": "DrfRXk21g7I6"
      },
      "execution_count": null,
      "outputs": []
    },
    {
      "cell_type": "code",
      "source": [
        "# Exercise -\n",
        "# a) display the raw values in the confusion matrix\n",
        "# tell me how many times we incorrectly predicted the number 4 (actual) for 9 (prediction)\n",
        "# b) call the custom function to plot the confusion matrix\n"
      ],
      "metadata": {
        "id": "ABFQDKYriLn5"
      },
      "execution_count": null,
      "outputs": []
    },
    {
      "cell_type": "code",
      "source": [
        "from sklearn.metrics import confusion_matrix\n",
        "\n",
        "cm =  confusion_matrix(y_test, allPreds.argmax(axis = 1))\n",
        "cm"
      ],
      "metadata": {
        "id": "BBptdfELj3qx"
      },
      "execution_count": null,
      "outputs": []
    },
    {
      "cell_type": "code",
      "source": [
        "# b) call the custom function to plot the confusion matrix\n",
        "\n",
        "import numpy as np\n",
        "\n",
        "plot_confusion_matrix(cm, \n",
        "                          list(range(0,9)), \n",
        "                          figname = \"myCM.png\", \n",
        "                          normalize=False, \n",
        "                          title='Confusion matrix for TEST set',\n",
        "                          cmap=plt.cm.Blues)"
      ],
      "metadata": {
        "id": "vNSUK57NlwfQ"
      },
      "execution_count": null,
      "outputs": []
    }
  ]
}