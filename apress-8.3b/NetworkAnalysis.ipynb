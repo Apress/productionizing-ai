{
 "cells": [
  {
   "cell_type": "markdown",
   "id": "4b3b78bd",
   "metadata": {},
   "source": [
    "### Social Networking Analysis\n",
    "<img src=\"https://cambridge-intelligence.com/wp-content/uploads/2021/06/social-network-analysis-measures-min-1.png\" alt=\"covid-19_qualitrolcorp\" width=\"400\" align = \"left\"/>"
   ]
  },
  {
   "cell_type": "code",
   "execution_count": null,
   "id": "4b9b84cb",
   "metadata": {},
   "outputs": [],
   "source": [
    "#ONE OFF INSTALL\n",
    "#%pip install networkx"
   ]
  },
  {
   "cell_type": "code",
   "execution_count": null,
   "id": "69d868c8",
   "metadata": {},
   "outputs": [],
   "source": [
    "#ONE OFF INSTALL\n",
    "\n",
    "# NB will get random_state_index is incorrect error unless install this version \n",
    "# of decorator below\n",
    "# see also https://pypi.org/project/decorators/\n",
    "\n",
    "# %pip install decorator==5.0.9"
   ]
  },
  {
   "cell_type": "code",
   "execution_count": null,
   "id": "6bb48c04",
   "metadata": {},
   "outputs": [],
   "source": [
    "# libraries\n",
    "import pandas as pd\n",
    "import matplotlib.pyplot as plt\n",
    "\n",
    "import networkx as nx"
   ]
  },
  {
   "cell_type": "code",
   "execution_count": null,
   "id": "64f97843",
   "metadata": {},
   "outputs": [],
   "source": [
    "df = pd.read_csv(\"tweets.csv\") # import the tweets (not really necessary if entire notebook run as one)"
   ]
  },
  {
   "cell_type": "code",
   "execution_count": null,
   "id": "8b7ca1b2",
   "metadata": {},
   "outputs": [],
   "source": [
    "df.head()"
   ]
  },
  {
   "cell_type": "code",
   "execution_count": null,
   "id": "b391ec3d",
   "metadata": {},
   "outputs": [],
   "source": [
    "# filter out UK as a generic location\n",
    "\n",
    "shortList = df[(df.Location != \"UK\") & (df.Location != \"United Kingdom\") & (df.Location != \"\")].groupby(by=[\"Location\", \"Supermarket\"]).size().sort_values(ascending=False)\n",
    "shortList"
   ]
  },
  {
   "cell_type": "code",
   "execution_count": null,
   "id": "862e42eb",
   "metadata": {},
   "outputs": [],
   "source": [
    "# unique locations\n",
    "uniqueLocs = df[(df.Location != \"UK\") & (df.Location != \"United Kingdom\") & (df.Location != \"\")].Location.unique() "
   ]
  },
  {
   "cell_type": "code",
   "execution_count": null,
   "id": "4a30944c",
   "metadata": {},
   "outputs": [],
   "source": [
    "uniqueLocs.dtype"
   ]
  },
  {
   "cell_type": "code",
   "execution_count": null,
   "id": "7dc59044",
   "metadata": {},
   "outputs": [],
   "source": [
    "#check unique locations\n",
    "for iterator in uniqueLocs:\n",
    "    print(iterator)"
   ]
  },
  {
   "cell_type": "code",
   "execution_count": null,
   "id": "474b0504",
   "metadata": {},
   "outputs": [],
   "source": [
    "# example - check locations for Aldi only\n",
    "\n",
    "supermarkets = \"Aldi\"\n",
    "for location in df[df.Supermarket == supermarkets].Location.unique():\n",
    "    print(location)"
   ]
  },
  {
   "cell_type": "code",
   "execution_count": null,
   "id": "c14f88f6",
   "metadata": {},
   "outputs": [],
   "source": [
    "# all supermakets \n",
    "\n",
    "supermarkets = df.Supermarket.unique() \n",
    "supermarkets"
   ]
  },
  {
   "cell_type": "code",
   "execution_count": null,
   "id": "66cf02bf",
   "metadata": {},
   "outputs": [],
   "source": [
    "# all locations\n",
    "for location in df.Location.unique():\n",
    "    print(location)"
   ]
  },
  {
   "cell_type": "code",
   "execution_count": null,
   "id": "12541740",
   "metadata": {},
   "outputs": [],
   "source": [
    "# create a location exclusion list - \"non-specific\" locations that make the social network analysis messy\n",
    "excList = [\"UK\", \"United Kingdom\", \"\", \"nan\"]"
   ]
  },
  {
   "cell_type": "code",
   "execution_count": null,
   "id": "822a3ab8",
   "metadata": {},
   "outputs": [],
   "source": [
    "# create major cities list\n",
    "majorCities = [\"London\", \"Birmingham\", \"Manchester\", \"Glasgow\", \"Belfast\"]"
   ]
  },
  {
   "cell_type": "code",
   "execution_count": null,
   "id": "11a6fb46",
   "metadata": {},
   "outputs": [],
   "source": [
    "# create network analysis\n",
    "G_symmetric = nx.Graph()\n",
    "\n",
    "for supermarket in supermarkets:\n",
    "    for location in df[(df.Supermarket ==  supermarket)].Location.unique():\n",
    "        if location not in excList:\n",
    "            # print(location) # debugging\n",
    "            G_symmetric.add_edge(supermarket, location)\n",
    "\n",
    "nx.draw_networkx(G_symmetric)\n",
    "\n",
    "plt.title(\"Supermarket chatter network analysis\")"
   ]
  },
  {
   "cell_type": "markdown",
   "id": "9e42d4cd",
   "metadata": {},
   "source": [
    "messy"
   ]
  },
  {
   "cell_type": "code",
   "execution_count": null,
   "id": "5a14409b",
   "metadata": {},
   "outputs": [],
   "source": [
    "# majorCities only\n",
    "G_symmetric = nx.Graph()\n",
    "\n",
    "for supermarket in supermarkets:\n",
    "    for location in df[(df.Supermarket ==  supermarket)].Location.unique():\n",
    "        for location in majorCities:\n",
    "            # print(location) # debugging\n",
    "            G_symmetric.add_edge(supermarket, location)\n",
    "\n",
    "nx.draw_networkx(G_symmetric)\n",
    "\n",
    "plt.title(\"Supermarket chatter - Major Cities\")"
   ]
  },
  {
   "cell_type": "code",
   "execution_count": null,
   "id": "c265ae44",
   "metadata": {},
   "outputs": [],
   "source": [
    "# location first, supermarket second\n",
    "\n",
    "G_symmetric = nx.Graph()\n",
    "\n",
    "for supermarket in supermarkets:\n",
    "    for location in df[df.Supermarket ==  supermarket].Location.unique():\n",
    "        if location not in excList:\n",
    "            # print(location) # debugging\n",
    "            G_symmetric.add_edge(location, supermarket)\n",
    "\n",
    "\n",
    "nx.draw_networkx(G_symmetric)"
   ]
  },
  {
   "cell_type": "code",
   "execution_count": null,
   "id": "8ea53e76",
   "metadata": {},
   "outputs": [],
   "source": []
  },
  {
   "cell_type": "markdown",
   "id": "9a908bc3",
   "metadata": {},
   "source": [
    "Further References:\n",
    "    \n",
    "see also \n",
    "\n",
    "https://networkx.org/documentation/stable/auto_examples/geospatial/plot_polygons.html\n",
    "\n",
    "https://www.datacamp.com/tutorial/social-network-analysis-python"
   ]
  }
 ],
 "metadata": {
  "kernelspec": {
   "display_name": "Python 3",
   "language": "python",
   "name": "python3"
  },
  "language_info": {
   "codemirror_mode": {
    "name": "ipython",
    "version": 3
   },
   "file_extension": ".py",
   "mimetype": "text/x-python",
   "name": "python",
   "nbconvert_exporter": "python",
   "pygments_lexer": "ipython3",
   "version": "3.8.8"
  }
 },
 "nbformat": 4,
 "nbformat_minor": 5
}
