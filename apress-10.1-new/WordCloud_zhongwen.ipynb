{
 "cells": [
  {
   "cell_type": "code",
   "execution_count": null,
   "id": "d63b6ee3",
   "metadata": {},
   "outputs": [],
   "source": [
    "# ONE OFF INSTALL - Chinese text segmentation\n",
    "# %pip install jieba"
   ]
  },
  {
   "cell_type": "code",
   "execution_count": null,
   "id": "416e9e4d",
   "metadata": {},
   "outputs": [],
   "source": [
    "# Libraries\n",
    "from wordcloud import WordCloud\n",
    "\n",
    "import PIL.Image as image\n",
    "\n",
    "import numpy as np\n",
    "\n",
    "import jieba"
   ]
  },
  {
   "cell_type": "code",
   "execution_count": null,
   "id": "4116676f",
   "metadata": {},
   "outputs": [],
   "source": [
    "# function to parse Chinese characters and prepare text for Word Cloud\n",
    "\n",
    "def trans_CN(text):\n",
    "\n",
    "    word_list = jieba.cut(text)\n",
    "\n",
    "    result = \" \".join(word_list) # add spaces between Chinese characters\n",
    "\n",
    "    return result"
   ]
  },
  {
   "cell_type": "markdown",
   "id": "996ca198",
   "metadata": {
    "slideshow": {
     "slide_type": "subslide"
    }
   },
   "source": [
    "Below data source taken from China Daily main headline https://cn.chinadaily.com.cn/"
   ]
  },
  {
   "cell_type": "code",
   "execution_count": null,
   "id": "690f9475",
   "metadata": {},
   "outputs": [],
   "source": [
    "with open('china-daily.txt',encoding='UTF-8') as fp:\n",
    "\n",
    "    text = fp.read()\n",
    "\n",
    "text = trans_CN(text) # call the function above to segment words\n",
    "\n",
    "mask = np.array(image.open('zhu.jpg')) # use an image \"template\" - the word cloud will be in this shape"
   ]
  },
  {
   "cell_type": "code",
   "execution_count": null,
   "id": "d36c9e21",
   "metadata": {},
   "outputs": [],
   "source": [
    "text # check data for encoding for word cloud"
   ]
  },
  {
   "cell_type": "code",
   "execution_count": null,
   "id": "a139c524",
   "metadata": {},
   "outputs": [],
   "source": [
    "mask # check numpy array format for word cloud"
   ]
  },
  {
   "cell_type": "code",
   "execution_count": null,
   "id": "967ca66a",
   "metadata": {},
   "outputs": [],
   "source": [
    "# Generate Word Cloud\n",
    "\n",
    "wordcloud = WordCloud(background_color='white', # or #FFFFFF\n",
    "                      mask=mask, # Add mask layer \n",
    "                      font_path=\"C:\\Windows\\Fonts\\msyh.ttc\" # Generate fonts for Chinese characters\n",
    "                      ).generate(text)\n",
    "\n",
    "image_produce = wordcloud.to_image()\n",
    "\n",
    "image_produce.show()\n",
    "\n",
    "wordcloud.to_file('wc-zw-final.jpg') # the final image"
   ]
  },
  {
   "cell_type": "markdown",
   "id": "47b6a369",
   "metadata": {},
   "source": [
    "Exercises:\n",
    "\n",
    "-- run the code using instead the English data example (pasta recipe)\n",
    "\n",
    "-- replace the pig image template with a different Chinese zodiac image (use images from e.g. https://www.astrosage.com/chinese-zodiac/)\n",
    "\n",
    "-- update the code to generate the word cloud based on the current Chinese Year (tiger, rabbit, dragon etc.) "
   ]
  },
  {
   "cell_type": "code",
   "execution_count": null,
   "id": "4f2ece9e",
   "metadata": {},
   "outputs": [],
   "source": []
  },
  {
   "cell_type": "markdown",
   "id": "fb7bc255",
   "metadata": {},
   "source": [
    "Source Reference: https://pythonmana.com/2021/04/20210413162743483e.html (with some adaptions)"
   ]
  }
 ],
 "metadata": {
  "kernelspec": {
   "display_name": "Python 3",
   "language": "python",
   "name": "python3"
  },
  "language_info": {
   "codemirror_mode": {
    "name": "ipython",
    "version": 3
   },
   "file_extension": ".py",
   "mimetype": "text/x-python",
   "name": "python",
   "nbconvert_exporter": "python",
   "pygments_lexer": "ipython3",
   "version": "3.8.8"
  }
 },
 "nbformat": 4,
 "nbformat_minor": 5
}
