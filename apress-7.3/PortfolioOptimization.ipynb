{
  "cells": [
    {
      "cell_type": "markdown",
      "metadata": {
        "id": "me_iFkVTAodV"
      },
      "source": [
        "# Portfolio optimization accelerator"
      ]
    },
    {
      "cell_type": "markdown",
      "source": [
        "<img src=\"https://i.pinimg.com/originals/24/a7/61/24a761a5fd24fa28cf9ff1111a95f122.jpg\" alt=\"Source: https://www.google.com/url?sa=i&url=https%3A%2F%2Fwww.pinterest.com%2Fpin%2F91549804901025206%2F&psig=AOvVaw2763c4gGmjK2xPgw02jrak&ust=1668513426289000&source=images&cd=vfe&ved=0CA8QjRxqFwoTCPDh5oLPrfsCFQAAAAAdAAAAABAE\" width=\"50%\"/>"
      ],
      "metadata": {
        "id": "sQ3kQvbtA2xZ"
      }
    },
    {
      "cell_type": "code",
      "execution_count": null,
      "metadata": {
        "id": "DiaKofThAodW"
      },
      "outputs": [],
      "source": [
        "import numpy as np\n",
        "import pandas as pd\n",
        "import matplotlib.pyplot as plt\n",
        "from cvxpy import *"
      ]
    },
    {
      "cell_type": "markdown",
      "metadata": {
        "id": "7YxXN9ihAodX"
      },
      "source": [
        "### Data Import"
      ]
    },
    {
      "cell_type": "markdown",
      "source": [
        "put csv of monthly stock prices for:\n",
        "\n",
        "Microsoft\n",
        "Visa\n",
        "Walmart\n",
        "\n",
        "in Colab default temp folder"
      ],
      "metadata": {
        "id": "Or7Q4zVwBIvO"
      }
    },
    {
      "cell_type": "code",
      "execution_count": null,
      "metadata": {
        "id": "7AYhNaJfAodY"
      },
      "outputs": [],
      "source": [
        "mp = pd.read_csv(\"monthly_prices.csv\",index_col=0) \n",
        "mr = pd.DataFrame()"
      ]
    },
    {
      "cell_type": "code",
      "execution_count": null,
      "metadata": {
        "id": "9HO7-KFFAodY"
      },
      "outputs": [],
      "source": [
        "mp.head()"
      ]
    },
    {
      "cell_type": "markdown",
      "metadata": {
        "id": "Nl_nKyeTAodZ"
      },
      "source": [
        "### Plot the data"
      ]
    },
    {
      "cell_type": "code",
      "execution_count": null,
      "metadata": {
        "id": "fi470aIZAodZ"
      },
      "outputs": [],
      "source": [
        "plt.figure(figsize=(10,5))\n",
        "plt.plot([i for i in range(1,25)],mp['MSFT'],lw=3,marker='o',markersize=12)\n",
        "plt.plot([i for i in range(1,25)],mp['V'],lw=3,c='red',marker='^',markersize=12)\n",
        "plt.plot([i for i in range(1,25)],mp['WMT'],lw=3,marker='*',markersize=12)\n",
        "plt.legend(mp.columns,fontsize=16)\n",
        "plt.xlabel(\"Months\",fontsize=18)\n",
        "plt.ylabel(\"Stock price (Monthly average)\",fontsize=18)\n",
        "plt.xticks(fontsize=16)\n",
        "plt.yticks(fontsize=16)\n",
        "plt.grid(True)\n",
        "plt.show()"
      ]
    },
    {
      "cell_type": "markdown",
      "metadata": {
        "id": "Rh8ZI8IbAodZ"
      },
      "source": [
        "### Compute monthly returns"
      ]
    },
    {
      "cell_type": "code",
      "execution_count": null,
      "metadata": {
        "id": "MKRgsGgmAoda"
      },
      "outputs": [],
      "source": [
        "# compute monthly returns\n",
        "for s in mp.columns:\n",
        "    date = mp.index[0]\n",
        "    pr0 = mp[s][date] \n",
        "    for t in range(1,len(mp.index)):\n",
        "        date = mp.index[t]\n",
        "        pr1 = mp[s][date]\n",
        "        ret = (pr1-pr0)/pr0\n",
        "        mr.at[date,s] = ret # NB set_value deprecated, now using .at[]. See https://stackoverflow.com/questions/60294463/attributeerror-dataframe-object-has-no-attribute-set-value\n",
        "        pr0 = pr1"
      ]
    },
    {
      "cell_type": "code",
      "execution_count": null,
      "metadata": {
        "id": "gQgLkMsXAoda"
      },
      "outputs": [],
      "source": [
        "mr.head()"
      ]
    },
    {
      "cell_type": "markdown",
      "metadata": {
        "id": "HYCH7p_xAodb"
      },
      "source": [
        "### Get symbol names"
      ]
    },
    {
      "cell_type": "code",
      "execution_count": null,
      "metadata": {
        "id": "ZMFl85VjAodb"
      },
      "outputs": [],
      "source": [
        "# get symbol names\n",
        "symbols = mr.columns"
      ]
    },
    {
      "cell_type": "markdown",
      "metadata": {
        "id": "tURdMS_KAodb"
      },
      "source": [
        "### Convert monthly return data frame to a numpy matrix"
      ]
    },
    {
      "cell_type": "code",
      "execution_count": null,
      "metadata": {
        "id": "ll2hpkDvAodb"
      },
      "outputs": [],
      "source": [
        "return_data = mr.values.T # as_matrix() deprecated, using .values. See https://stackoverflow.com/questions/61102281/dataframe-object-has-no-attribute-as-matrix"
      ]
    },
    {
      "cell_type": "code",
      "execution_count": null,
      "metadata": {
        "id": "sXNSukyEAodc"
      },
      "outputs": [],
      "source": [
        "plt.figure(figsize=(10,5))\n",
        "plt.plot([i for i in range(1,24)],100*mr['MSFT'],lw=3,marker='o',markersize=12)\n",
        "plt.plot([i for i in range(1,24)],100*mr['V'],lw=3,c='red',marker='^',markersize=12)\n",
        "plt.plot([i for i in range(1,24)],100*mr['WMT'],lw=3,marker='*',markersize=12)\n",
        "plt.legend(mp.columns,fontsize=16)\n",
        "plt.xlabel(\"Months\",fontsize=18)\n",
        "plt.ylabel(\"Monthly return (%))\",fontsize=18)\n",
        "plt.xticks(fontsize=16)\n",
        "plt.yticks(fontsize=16)\n",
        "plt.grid(True)\n",
        "plt.show()"
      ]
    },
    {
      "cell_type": "markdown",
      "metadata": {
        "id": "uAaotbNGAodc"
      },
      "source": [
        "### Mean return"
      ]
    },
    {
      "cell_type": "code",
      "execution_count": null,
      "metadata": {
        "id": "wxrIoMA2Aodc"
      },
      "outputs": [],
      "source": [
        "r = np.asarray(np.mean(return_data, axis=1))"
      ]
    },
    {
      "cell_type": "markdown",
      "metadata": {
        "id": "CiIcbVGYAodc"
      },
      "source": [
        "### Covariance matrix"
      ]
    },
    {
      "cell_type": "code",
      "execution_count": null,
      "metadata": {
        "id": "YZ2b-zTHAodd"
      },
      "outputs": [],
      "source": [
        "C = np.asmatrix(np.cov(return_data))"
      ]
    },
    {
      "cell_type": "code",
      "execution_count": null,
      "metadata": {
        "id": "dAP0qTDNAodd"
      },
      "outputs": [],
      "source": [
        "C"
      ]
    },
    {
      "cell_type": "markdown",
      "metadata": {
        "id": "giuuJu0gAodd"
      },
      "source": [
        "### Print expected returns and risk"
      ]
    },
    {
      "cell_type": "code",
      "execution_count": null,
      "metadata": {
        "id": "fSLIeonKAodd"
      },
      "outputs": [],
      "source": [
        "for j in range(len(symbols)):\n",
        "    print ('%s: Exp ret = %f, Risk = %f' %(symbols[j],r[j], C[j,j]**0.5))"
      ]
    },
    {
      "cell_type": "markdown",
      "metadata": {
        "id": "ckL1oz3lAodd"
      },
      "source": [
        "### Set up the optimization model"
      ]
    },
    {
      "cell_type": "code",
      "execution_count": null,
      "metadata": {
        "id": "DnanjL-zAodd"
      },
      "outputs": [],
      "source": [
        "# Number of variables\n",
        "n = len(symbols)\n",
        "\n",
        "# The variables vector\n",
        "x = Variable(n)\n",
        "\n",
        "# The minimum return\n",
        "req_return = 0.02\n",
        "\n",
        "# The return\n",
        "ret = r.T*x\n",
        "\n",
        "# The risk in xT.Q.x format\n",
        "risk = quad_form(x, C)\n",
        "\n",
        "# The core problem definition with the Problem class from CVXPY\n",
        "prob = Problem(Minimize(risk), [sum(x)==1, ret >= req_return, x >= 0])"
      ]
    },
    {
      "cell_type": "markdown",
      "metadata": {
        "id": "c1jkMTtMAode"
      },
      "source": [
        "### Try solving the problem (within a `try/except` loop)"
      ]
    },
    {
      "cell_type": "code",
      "execution_count": null,
      "metadata": {
        "id": "jfySoJeeAode"
      },
      "outputs": [],
      "source": [
        "try:\n",
        "    prob.solve()\n",
        "    print (\"Optimal portfolio\")\n",
        "    print (\"----------------------\")\n",
        "    for s in range(len(symbols)):\n",
        "       print (\" Investment in {} : {}% of the portfolio\".format(symbols[s],round(100*x.value[s],2)))\n",
        "    print (\"----------------------\")\n",
        "    print (\"Exp ret = {}%\".format(round(100*ret.value,2)))\n",
        "    print (\"Expected risk    = {}%\".format(round(100*risk.value**0.5,2)))\n",
        "except:\n",
        "    print (\"Error\")"
      ]
    },
    {
      "cell_type": "code",
      "execution_count": null,
      "metadata": {
        "id": "odYZUJyIAode"
      },
      "outputs": [],
      "source": [
        "prob.status"
      ]
    },
    {
      "cell_type": "code",
      "execution_count": null,
      "metadata": {
        "id": "oQ2TwpcpAode"
      },
      "outputs": [],
      "source": [
        "x.value"
      ]
    },
    {
      "cell_type": "code",
      "source": [],
      "metadata": {
        "id": "ur6YqtZ5x7wB"
      },
      "execution_count": null,
      "outputs": []
    },
    {
      "cell_type": "markdown",
      "source": [
        "Source References: \n",
        "\n",
        "\n",
        "https://www.kdnuggets.com/2019/06/optimization-python-money-risk.html\n",
        "\n",
        "https://github.com/tirthajyoti/Optimization-Python"
      ],
      "metadata": {
        "id": "6Cv7b8lBA8ah"
      }
    }
  ],
  "metadata": {
    "kernelspec": {
      "display_name": "Python 3",
      "language": "python",
      "name": "python3"
    },
    "language_info": {
      "codemirror_mode": {
        "name": "ipython",
        "version": 3
      },
      "file_extension": ".py",
      "mimetype": "text/x-python",
      "name": "python",
      "nbconvert_exporter": "python",
      "pygments_lexer": "ipython3",
      "version": "3.6.2"
    },
    "latex_envs": {
      "LaTeX_envs_menu_present": true,
      "autoclose": false,
      "autocomplete": true,
      "bibliofile": "biblio.bib",
      "cite_by": "apalike",
      "current_citInitial": 1,
      "eqLabelWithNumbers": true,
      "eqNumInitial": 1,
      "hotkeys": {
        "equation": "Ctrl-E",
        "itemize": "Ctrl-I"
      },
      "labels_anchors": false,
      "latex_user_defs": false,
      "report_style_numbering": false,
      "user_envs_cfg": false
    },
    "colab": {
      "provenance": []
    }
  },
  "nbformat": 4,
  "nbformat_minor": 0
}