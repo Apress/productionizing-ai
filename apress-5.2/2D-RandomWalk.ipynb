{
 "cells": [
  {
   "cell_type": "markdown",
   "id": "9454deae",
   "metadata": {},
   "source": [
    "GOAL : visualise a two dimensional random walk"
   ]
  },
  {
   "cell_type": "code",
   "execution_count": null,
   "id": "71cfd64f",
   "metadata": {},
   "outputs": [],
   "source": [
    "import numpy as np\n",
    "import matplotlib.pyplot as plt\n",
    "\n",
    "import random # for defining random variables"
   ]
  },
  {
   "cell_type": "code",
   "execution_count": null,
   "id": "70ae5883",
   "metadata": {},
   "outputs": [],
   "source": [
    "# define the number of steps in our random walk\n",
    "n = 100000"
   ]
  },
  {
   "cell_type": "code",
   "execution_count": null,
   "id": "7ca71e66",
   "metadata": {},
   "outputs": [],
   "source": [
    "# create two arrays for our x and y coordinates\n",
    "x = np.zeros(n) # initialise array with n zeros\n",
    "y = np.zeros(n) # initialise array with n zeros"
   ]
  },
  {
   "cell_type": "code",
   "execution_count": null,
   "id": "621a270b",
   "metadata": {},
   "outputs": [],
   "source": [
    "# create a list for debugging / storing our random variables\n",
    "myVals = []"
   ]
  },
  {
   "cell_type": "code",
   "execution_count": null,
   "id": "a6d543aa",
   "metadata": {},
   "outputs": [],
   "source": [
    "# Exercise \n",
    "\n",
    "# see if you can construct a RANDOM WALK which takes 4 different \n",
    "# outcomes # (in this case random integers) and move forward, back, left \n",
    "# or right based on the value of the integer (1,2,3 or 4)\n",
    "\n",
    "# clues: \n",
    "# 1) use a FOR loop and\n",
    "# 2) an IF statement (in the FOR loop)\n",
    "# 3) use random.randint(1,4) for creating the random integers\n",
    "\n",
    "# plot your random integers at the end"
   ]
  },
  {
   "cell_type": "code",
   "execution_count": null,
   "id": "91f0b66e",
   "metadata": {},
   "outputs": [],
   "source": [
    "# Solution\n",
    "\n",
    "for i in range(1, n):\n",
    "    val = random.randint(1,4) # a random integer b/w 1 and 4\n",
    "    myVals.append(val)\n",
    "    \n",
    "    # move up\n",
    "    if val == 1:\n",
    "        x[i] = x[i-1]\n",
    "        y[i] = y[i-1] + 1\n",
    "    # move down\n",
    "    elif val == 2:\n",
    "        x[i] = x[i-1]\n",
    "        y[i] = y[i-1] - 1\n",
    "    \n",
    "    # more right\n",
    "    elif val == 3:\n",
    "        x[i] = x[i-1] + 1\n",
    "        y[i] = y[i-1]\n",
    "    # move left\n",
    "    else: # i.e. val == 4\n",
    "        x[i] = x[i-1] - 1\n",
    "        y[i] = y[i-1] "
   ]
  },
  {
   "cell_type": "code",
   "execution_count": null,
   "id": "d5bac99a",
   "metadata": {},
   "outputs": [],
   "source": [
    "# plot the random walk\n",
    "\n",
    "plt.title(\"Random Walk\")\n",
    "plt.plot(x,y)\n",
    "plt.show()"
   ]
  },
  {
   "cell_type": "markdown",
   "id": "b3039c14",
   "metadata": {},
   "source": [
    "above is a random walk over 100,000 iterations - a \"FRACTAL\""
   ]
  }
 ],
 "metadata": {
  "kernelspec": {
   "display_name": "Python 3",
   "language": "python",
   "name": "python3"
  },
  "language_info": {
   "codemirror_mode": {
    "name": "ipython",
    "version": 3
   },
   "file_extension": ".py",
   "mimetype": "text/x-python",
   "name": "python",
   "nbconvert_exporter": "python",
   "pygments_lexer": "ipython3",
   "version": "3.8.8"
  }
 },
 "nbformat": 4,
 "nbformat_minor": 5
}
