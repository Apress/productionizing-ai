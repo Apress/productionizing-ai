{
 "cells": [
  {
   "cell_type": "code",
   "execution_count": null,
   "id": "6fba0a79",
   "metadata": {},
   "outputs": [],
   "source": [
    "# ONE OFF INSTALL\n",
    "# %pip install scikit_optimize"
   ]
  },
  {
   "cell_type": "code",
   "execution_count": null,
   "id": "53cf9697",
   "metadata": {},
   "outputs": [],
   "source": [
    "# Libraries\n",
    "\n",
    "import pandas as pd\n",
    "\n",
    "import matplotlib.pyplot as plt\n",
    "import numpy as np\n",
    "\n",
    "from sklearn.pipeline import Pipeline #sklearn==0.23.2\n",
    "from sklearn.preprocessing import StandardScaler, OneHotEncoder\n",
    "from sklearn.compose import make_column_transformer\n",
    "from lightgbm import LGBMClassifier\n",
    "\n",
    "from sklearn.model_selection import GridSearchCV\n",
    "from sklearn.model_selection import RandomizedSearchCV\n",
    "from scipy.stats import loguniform, randint\n",
    "from skopt import BayesSearchCV"
   ]
  },
  {
   "cell_type": "markdown",
   "id": "c424456d",
   "metadata": {},
   "source": [
    "#### Data import and pre-processing"
   ]
  },
  {
   "cell_type": "code",
   "execution_count": null,
   "id": "e16bf12f",
   "metadata": {},
   "outputs": [],
   "source": [
    "# Example - source https://www.kaggle.com/datasets/rashikrahmanpritom/heart-attack-analysis-prediction-dataset\n",
    "\n",
    "df_heart = pd.read_csv('heart.csv')\n",
    "\n",
    "lables=['<45', '45-60', '60+']\n",
    "df_heart['age_bins']=pd.cut(x=df_heart['age'],bins=[25,45,60,100], labels=lables, include_lowest=True)\n",
    "\n",
    "numeric_var = ['age', 'trtbps', 'chol', 'thalachh', 'oldpeak']\n",
    "categorical_var = ['sex','cp','fbs','restecg','exng','slp','caa','thall', 'age_bins']\n",
    "\n",
    "df_heart[categorical_var] = df_heart[categorical_var].astype('category')\n",
    "\n",
    "X = df_heart.drop('output', axis=1)\n",
    "y = df_heart['output']"
   ]
  },
  {
   "cell_type": "code",
   "execution_count": null,
   "id": "7662cb11",
   "metadata": {},
   "outputs": [],
   "source": [
    "# create pipeline for scaling numerical variables and encoding categorical variables\n",
    "\n",
    "tuples = list()\n",
    "\n",
    "tuples.append((Pipeline([\n",
    "        ('scaler', StandardScaler()),\n",
    "    ]), numeric_var))\n",
    "\n",
    "tuples.append((Pipeline([\n",
    "        ('onehot', OneHotEncoder()),\n",
    "    ]), categorical_var))\n",
    "\n",
    "preprocess = make_column_transformer(*tuples)\n",
    "\n",
    "pipe = Pipeline([\n",
    "    ('preprocess', preprocess),\n",
    "    ('classifier', LGBMClassifier())\n",
    "])"
   ]
  },
  {
   "cell_type": "markdown",
   "id": "0d229436",
   "metadata": {},
   "source": [
    "#### Compare Search Optimization"
   ]
  },
  {
   "cell_type": "markdown",
   "id": "24a5d4ce",
   "metadata": {},
   "source": [
    "NB due to multi-iterative nature of the optimization techniques below, each may take up to 10 mins to run"
   ]
  },
  {
   "cell_type": "code",
   "execution_count": null,
   "id": "cab726a6",
   "metadata": {},
   "outputs": [],
   "source": [
    "# Grid Search first\n",
    "\n",
    "param_grid = {\n",
    "    \"classifier__learning_rate\": [0.0001, 0.0005, 0.001, 0.01, 0.1],\n",
    "    \"classifier__n_estimators\": [100, 300, 600, 800, 1000],\n",
    "    \"classifier__max_depth\": [ 4, 20, 100, 250, 400] \n",
    "}\n",
    "\n",
    "# grid\n",
    "reg_grid = GridSearchCV(pipe,\n",
    "                        param_grid=param_grid,\n",
    "                        cv=5,\n",
    "                        n_jobs=8, \n",
    "                        scoring='roc_auc'\n",
    "                       )\n",
    "\n",
    "model_grid = reg_grid.fit(X, y)"
   ]
  },
  {
   "cell_type": "code",
   "execution_count": null,
   "id": "dc954e0f",
   "metadata": {},
   "outputs": [],
   "source": [
    "# Random Search\n",
    "\n",
    "n_iter = 70\n",
    "\n",
    "param_grid = {\n",
    "    \"classifier__learning_rate\": loguniform(1e-4, 0.1),\n",
    "    \"classifier__n_estimators\": randint(100,1000),\n",
    "    \"classifier__max_depth\": randint(4, 400) \n",
    "}\n",
    "\n",
    "# Random\n",
    "reg_rand = RandomizedSearchCV(pipe,\n",
    "                         param_distributions=param_grid,\n",
    "                         n_iter=n_iter,\n",
    "                         cv=5,\n",
    "                         n_jobs=8,\n",
    "                         scoring='roc_auc',\n",
    "                         random_state=123)\n",
    "\n",
    "model_rand = reg_rand.fit(X, y)"
   ]
  },
  {
   "cell_type": "code",
   "execution_count": null,
   "id": "656db790",
   "metadata": {},
   "outputs": [],
   "source": [
    "# Bayesian search\n",
    "\n",
    "n_iter = 70\n",
    "\n",
    "param_grid = {\n",
    "    \"classifier__learning_rate\": (0.0001, 0.1, \"log-uniform\"),\n",
    "    \"classifier__n_estimators\": (100,  1000) ,\n",
    "    \"classifier__max_depth\": (4, 400) \n",
    "}\n",
    "\n",
    "reg_bay = BayesSearchCV(estimator=pipe,\n",
    "                    search_spaces=param_grid,\n",
    "                    n_iter=n_iter,\n",
    "                    cv=5,\n",
    "                    n_jobs=8,\n",
    "                    scoring='roc_auc',\n",
    "                    random_state=123)\n",
    "\n",
    "model_bay = reg_bay.fit(X, y)"
   ]
  },
  {
   "cell_type": "code",
   "execution_count": null,
   "id": "91a901e6",
   "metadata": {},
   "outputs": [],
   "source": [
    "#### Performance Visualisation"
   ]
  },
  {
   "cell_type": "code",
   "execution_count": null,
   "id": "bab52995",
   "metadata": {},
   "outputs": [],
   "source": [
    "# visualise mean score\n",
    "\n",
    "param = 'param_classifier__learning_rate'\n",
    "\n",
    "grid = model_grid.cv_results_[param]\n",
    "rand = model_rand.cv_results_[param]\n",
    "bay = model_bay.cv_results_[param]\n",
    "\n",
    "fig = plt.figure(figsize=(15, 7))\n",
    "\n",
    "ax = plt.gca()\n",
    "ax.scatter(np.arange(len(grid)), grid.data, c='b', s=20, label='grid');\n",
    "ax.scatter(np.arange(len(rand)), rand.data, c='r', s=20, label='random');\n",
    "ax.scatter(np.arange(len(bay)), bay, c='g', s=20, label='bayesian');\n",
    "ax.set_yscale('log')\n",
    "\n",
    "plt.legend();\n",
    "plt.title(param);"
   ]
  },
  {
   "cell_type": "code",
   "execution_count": null,
   "id": "7b4fed56",
   "metadata": {},
   "outputs": [],
   "source": [
    "# Exercise - plot instead mean test score for each method"
   ]
  },
  {
   "cell_type": "code",
   "execution_count": null,
   "id": "f9b9bcc6",
   "metadata": {},
   "outputs": [],
   "source": []
  },
  {
   "cell_type": "code",
   "execution_count": null,
   "id": "1df81920",
   "metadata": {},
   "outputs": [],
   "source": [
    "param = 'mean test score'\n",
    "\n",
    "fig = plt.figure(figsize=(15, 7))\n",
    "\n",
    "ax = plt.gca()\n",
    "ax.scatter(np.arange(len(grid)), model_grid.cv_results_[\"mean_test_score\"], c='b', s=20, label='grid');\n",
    "ax.scatter(np.arange(len(rand)), model_rand.cv_results_[\"mean_test_score\"], c='r', s=20, label='random');\n",
    "ax.scatter(np.arange(len(bay)), model_bay.cv_results_[\"mean_test_score\"], c='g', s=20, label='bayesian');\n",
    "# ax.set_yscale('log')\n",
    "\n",
    "plt.legend();\n",
    "plt.title(param);"
   ]
  },
  {
   "cell_type": "markdown",
   "id": "3c2f6a62",
   "metadata": {},
   "source": [
    "Bayesian Search tends to have higher performance (AUC in this case)"
   ]
  },
  {
   "cell_type": "code",
   "execution_count": null,
   "id": "0e7aa756",
   "metadata": {},
   "outputs": [],
   "source": []
  },
  {
   "cell_type": "code",
   "execution_count": null,
   "id": "fc176b2c",
   "metadata": {},
   "outputs": [],
   "source": [
    "# Exercise (stretch) - import a dataset from kaggle e.g. \n",
    "# IoT https://www.kaggle.com/code/helloedi/ml-telemetrysensordata\n",
    "# or retail and perform the same GSO comparison on that dataset"
   ]
  },
  {
   "cell_type": "code",
   "execution_count": null,
   "id": "8dcc4230",
   "metadata": {},
   "outputs": [],
   "source": []
  },
  {
   "cell_type": "markdown",
   "id": "ab90659e",
   "metadata": {},
   "source": [
    "Reference: https://towardsdatascience.com/bayesian-optimization-for-hyperparameter-tuning-how-and-why-655b0ee0b399"
   ]
  }
 ],
 "metadata": {
  "kernelspec": {
   "display_name": "Python 3",
   "language": "python",
   "name": "python3"
  },
  "language_info": {
   "codemirror_mode": {
    "name": "ipython",
    "version": 3
   },
   "file_extension": ".py",
   "mimetype": "text/x-python",
   "name": "python",
   "nbconvert_exporter": "python",
   "pygments_lexer": "ipython3",
   "version": "3.8.8"
  }
 },
 "nbformat": 4,
 "nbformat_minor": 5
}
