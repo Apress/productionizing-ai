{
  "cells": [
    {
      "cell_type": "markdown",
      "source": [
        "<img src=\"https://miro.medium.com/max/512/1*cDHe5Q_RDkNt_g-KKxZVcw.png\" alt=\"Source: AWS\" width=\"30%\"/>"
      ],
      "metadata": {
        "id": "nnCfrr7XQ8tw"
      },
      "id": "nnCfrr7XQ8tw"
    },
    {
      "cell_type": "code",
      "source": [
        "# %pip install boto3\n",
        "# one off install of the Python AWS library - comment out and restart kernel afterwards"
      ],
      "metadata": {
        "id": "PKvuGaAGQVsX"
      },
      "id": "PKvuGaAGQVsX",
      "execution_count": null,
      "outputs": []
    },
    {
      "cell_type": "markdown",
      "source": [
        "drag and drop your AWS keys csv into the default (temp) Colab folder on the LHS. \n",
        "\n",
        "NB this will get removed on expiry of your Colab session"
      ],
      "metadata": {
        "id": "OHApomlSMzvE"
      },
      "id": "OHApomlSMzvE"
    },
    {
      "cell_type": "code",
      "source": [
        "from numpy.core.fromnumeric import transpose\n",
        "import pandas as pd\n",
        "\n",
        "aws_cr = pd.read_csv(\"rootkey.csv\", delimiter=\"=\",header=None).T"
      ],
      "metadata": {
        "id": "53W9sTvBKuGi"
      },
      "id": "53W9sTvBKuGi",
      "execution_count": null,
      "outputs": []
    },
    {
      "cell_type": "code",
      "source": [
        "# *warning* this will display your credentials on the screen, so best to change your keys after this lab)\n",
        "aws_cr # check "
      ],
      "metadata": {
        "id": "P6pp2n_CMVoc"
      },
      "id": "P6pp2n_CMVoc",
      "execution_count": null,
      "outputs": []
    },
    {
      "cell_type": "code",
      "source": [
        "aws_cr_ak = aws_cr.iloc[1,0]\n",
        "aws_cr_sk = aws_cr.iloc[1,1]"
      ],
      "metadata": {
        "id": "gF9iC01vRzvn"
      },
      "id": "gF9iC01vRzvn",
      "execution_count": null,
      "outputs": []
    },
    {
      "cell_type": "code",
      "execution_count": null,
      "id": "457c8a24",
      "metadata": {
        "id": "457c8a24"
      },
      "outputs": [],
      "source": [
        "import boto3\n",
        "\n",
        "s3 = boto3.resource(\n",
        "  's3',\n",
        "  region_name='eu-west-2',\n",
        "  aws_access_key_id=aws_cr_ak,\n",
        "  aws_secret_access_key=aws_cr_sk\n",
        ")"
      ]
    },
    {
      "cell_type": "code",
      "execution_count": null,
      "id": "b47a8204",
      "metadata": {
        "id": "b47a8204"
      },
      "outputs": [],
      "source": [
        "s3 = boto3.client('s3',\n",
        "                  aws_access_key_id=aws_cr_ak,\n",
        "                  aws_secret_access_key=aws_cr_sk)\n",
        "\n",
        "# s3.download_file('BUCKET_NAME', 'OBJECT_NAME', 'FILE_NAME')\n",
        "s3.download_file('my-s3-fs', 'cats/cat.16.jpg', 'cat.16.jpg')"
      ]
    },
    {
      "cell_type": "markdown",
      "source": [
        "the downloaded cat file should now appear in your temporary Colab storage (click on folder refresh if not immediately visible)"
      ],
      "metadata": {
        "id": "qnWsjf5ZSv_J"
      },
      "id": "qnWsjf5ZSv_J"
    },
    {
      "cell_type": "code",
      "execution_count": null,
      "id": "7fd8d28f",
      "metadata": {
        "id": "7fd8d28f"
      },
      "outputs": [],
      "source": [
        "# or grab all files in the bucket...and put them in \"class\" folders\n",
        "\n",
        "import os\n",
        "\n",
        "#initiate s3 resource\n",
        "s3 = boto3.resource('s3',\n",
        "                  aws_access_key_id=aws_cr_ak,\n",
        "                  aws_secret_access_key=aws_cr_sk)\n",
        "\n",
        "# select bucket\n",
        "my_bucket = s3.Bucket('my-s3-fs')\n",
        "\n",
        "# download file into current directory\n",
        "for s3_object in my_bucket.objects.all():\n",
        "    # Need to split s3_object.key into path and file name, else it will give error file not found.\n",
        "    path, filename = os.path.split(s3_object.key)\n",
        "    try:\n",
        "        os.makedirs(path)\n",
        "        # NB first parameter is the S3 files, second is the local pathname to download them to\n",
        "        # these are the same as S3 object is e.g. 'cats/cat.1.jpg' as is the local path\n",
        "        my_bucket.download_file(s3_object.key, s3_object.key)\n",
        "    except:\n",
        "        my_bucket.download_file(s3_object.key, s3_object.key)"
      ]
    },
    {
      "cell_type": "markdown",
      "source": [
        "all the cats and dogs should now be in two Colab temp folders"
      ],
      "metadata": {
        "id": "t0UWX_AzTTJp"
      },
      "id": "t0UWX_AzTTJp"
    },
    {
      "cell_type": "code",
      "source": [],
      "metadata": {
        "id": "Fho5LfrvTezO"
      },
      "id": "Fho5LfrvTezO",
      "execution_count": null,
      "outputs": []
    },
    {
      "cell_type": "code",
      "source": [],
      "metadata": {
        "id": "mcq0WLj1Te2O"
      },
      "id": "mcq0WLj1Te2O",
      "execution_count": null,
      "outputs": []
    },
    {
      "cell_type": "code",
      "source": [],
      "metadata": {
        "id": "5UclbcBBTe7i"
      },
      "id": "5UclbcBBTe7i",
      "execution_count": null,
      "outputs": []
    },
    {
      "cell_type": "markdown",
      "id": "23669181",
      "metadata": {
        "id": "23669181"
      },
      "source": [
        "Further Reference: https://boto3.amazonaws.com/v1/documentation/api/latest/guide/s3-example-download-file.html"
      ]
    }
  ],
  "metadata": {
    "kernelspec": {
      "display_name": "Python 3",
      "language": "python",
      "name": "python3"
    },
    "language_info": {
      "codemirror_mode": {
        "name": "ipython",
        "version": 3
      },
      "file_extension": ".py",
      "mimetype": "text/x-python",
      "name": "python",
      "nbconvert_exporter": "python",
      "pygments_lexer": "ipython3",
      "version": "3.8.8"
    },
    "colab": {
      "provenance": []
    }
  },
  "nbformat": 4,
  "nbformat_minor": 5
}