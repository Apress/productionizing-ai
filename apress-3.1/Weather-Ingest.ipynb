{
 "cells": [
  {
   "cell_type": "markdown",
   "metadata": {
    "slideshow": {
     "slide_type": "slide"
    }
   },
   "source": [
    "### Live Weather from the Met Office"
   ]
  },
  {
   "cell_type": "markdown",
   "metadata": {
    "slideshow": {
     "slide_type": "slide"
    }
   },
   "source": [
    "<img src=\"https://www.metoffice.gov.uk/webfiles/1593598539323/images/icons/social-icons/default_card_315.jpg\" alt=\"MetOffice\" align = \"left\" width=\"200\"/>"
   ]
  },
  {
   "cell_type": "markdown",
   "metadata": {
    "slideshow": {
     "slide_type": "slide"
    }
   },
   "source": [
    "#### Libaries"
   ]
  },
  {
   "cell_type": "code",
   "execution_count": null,
   "metadata": {
    "slideshow": {
     "slide_type": "fragment"
    }
   },
   "outputs": [],
   "source": [
    "import requests # library for html requests\n",
    "from datetime import date # library for python date formats\n",
    "\n",
    "import numpy as np # for everything else"
   ]
  },
  {
   "cell_type": "markdown",
   "metadata": {
    "slideshow": {
     "slide_type": "slide"
    }
   },
   "source": [
    "#### Connect to Data"
   ]
  },
  {
   "cell_type": "code",
   "execution_count": null,
   "metadata": {
    "slideshow": {
     "slide_type": "fragment"
    }
   },
   "outputs": [],
   "source": [
    "#set up daily link\n",
    "weather_fcast = \"http://www.metoffice.gov.uk/public/weather/forecast/gcpvj0v07\"\n",
    "#send url requests to data links\n",
    "weather_fcast_rqst = requests.get(weather_fcast)\n",
    "#convert web data to text strings\n",
    "weather_fcast_text = weather_fcast_rqst.text\n",
    "#display webpage data\n",
    "print(weather_fcast_text)"
   ]
  },
  {
   "cell_type": "markdown",
   "metadata": {
    "slideshow": {
     "slide_type": "slide"
    }
   },
   "source": [
    "#### Recursive Wrangling"
   ]
  },
  {
   "cell_type": "markdown",
   "metadata": {
    "slideshow": {
     "slide_type": "fragment"
    }
   },
   "source": [
    "here we extract from the webpage data (weather_fcast_text) the 7 day forward forecasted \n",
    "temperatures for D, D+1, D+2,...,D+7 by recurively extracting temperatures then throwing away / \"chopping\" that part of weather_fcast_text that corresponds to the temperature data we have just extracted "
   ]
  },
  {
   "cell_type": "markdown",
   "metadata": {
    "slideshow": {
     "slide_type": "slide"
    }
   },
   "source": [
    "#### D (today)"
   ]
  },
  {
   "cell_type": "markdown",
   "metadata": {
    "slideshow": {
     "slide_type": "fragment"
    }
   },
   "source": [
    "we start with today (D) and break down the process cell by cell. \n",
    "The same process for D+1 to D+7 is consolidated in a for loop below."
   ]
  },
  {
   "cell_type": "code",
   "execution_count": null,
   "metadata": {
    "slideshow": {
     "slide_type": "subslide"
    }
   },
   "outputs": [],
   "source": [
    "weather_fcast_table = [] # for storing forecasts of max and min temps for D...D+7"
   ]
  },
  {
   "cell_type": "code",
   "execution_count": null,
   "metadata": {
    "slideshow": {
     "slide_type": "fragment"
    }
   },
   "outputs": [],
   "source": [
    "#finds character reference for today's date tabs within web extract\n",
    "weather_start = weather_fcast_text.find(\"data-tab-id\")\n",
    "print(weather_start)"
   ]
  },
  {
   "cell_type": "code",
   "execution_count": null,
   "metadata": {
    "slideshow": {
     "slide_type": "subslide"
    }
   },
   "outputs": [],
   "source": [
    "# today's date\n",
    "weather_date=weather_fcast_text[weather_start+13:weather_start+23]\n",
    "weather_date"
   ]
  },
  {
   "cell_type": "code",
   "execution_count": null,
   "metadata": {
    "slideshow": {
     "slide_type": "fragment"
    }
   },
   "outputs": [],
   "source": [
    "# isolate web extract starting from today's temperature\n",
    "weather_fcast_today = weather_fcast_text[weather_start:]\n",
    "print(weather_fcast_today)"
   ]
  },
  {
   "cell_type": "markdown",
   "metadata": {
    "slideshow": {
     "slide_type": "slide"
    }
   },
   "source": [
    "##### D (today) - daytime (max) temperature"
   ]
  },
  {
   "cell_type": "code",
   "execution_count": null,
   "metadata": {
    "slideshow": {
     "slide_type": "fragment"
    }
   },
   "outputs": [],
   "source": [
    "#finds character reference for today's max tempature\n",
    "weather_max_start = weather_fcast_today.find('Maximum daytime temperature:')\n",
    "print(weather_max_start)"
   ]
  },
  {
   "cell_type": "code",
   "execution_count": null,
   "metadata": {
    "slideshow": {
     "slide_type": "fragment"
    }
   },
   "outputs": [],
   "source": [
    "# isolate web extract starting from today's max temperature\n",
    "weather_fcast_chopped = weather_fcast_text[weather_start+weather_max_start:]\n",
    "print(weather_fcast_chopped)"
   ]
  },
  {
   "cell_type": "markdown",
   "metadata": {
    "slideshow": {
     "slide_type": "slide"
    }
   },
   "source": [
    "drill down to extract max temperature for today"
   ]
  },
  {
   "cell_type": "code",
   "execution_count": null,
   "metadata": {
    "slideshow": {
     "slide_type": "fragment"
    }
   },
   "outputs": [],
   "source": [
    "#finds character reference for today's max tempature VALUE\n",
    "weather_max_start_quote = weather_fcast_chopped.find('\"')\n",
    "print(weather_max_start_quote)"
   ]
  },
  {
   "cell_type": "code",
   "execution_count": null,
   "metadata": {
    "slideshow": {
     "slide_type": "fragment"
    }
   },
   "outputs": [],
   "source": [
    "# isolate web extract starting from today's max temperature VALUE\n",
    "weather_fcast_chopped = weather_fcast_text[weather_start +\n",
    "                                           weather_max_start + \n",
    "                                           weather_max_start_quote + 1:]\n",
    "print(weather_fcast_chopped)"
   ]
  },
  {
   "cell_type": "code",
   "execution_count": null,
   "metadata": {
    "slideshow": {
     "slide_type": "slide"
    }
   },
   "outputs": [],
   "source": [
    "# finds end character for today's max tempature\n",
    "weather_max_end = weather_fcast_chopped.find('\"')\n",
    "print(weather_max_end)"
   ]
  },
  {
   "cell_type": "code",
   "execution_count": null,
   "metadata": {
    "slideshow": {
     "slide_type": "fragment"
    }
   },
   "outputs": [],
   "source": [
    "# store today's max temperatue\n",
    "weather_max=weather_fcast_chopped[:weather_max_end]\n",
    "weather_max"
   ]
  },
  {
   "cell_type": "markdown",
   "metadata": {
    "slideshow": {
     "slide_type": "slide"
    }
   },
   "source": [
    "##### D (today) - nighttime (min) temperature"
   ]
  },
  {
   "cell_type": "code",
   "execution_count": null,
   "metadata": {
    "slideshow": {
     "slide_type": "fragment"
    }
   },
   "outputs": [],
   "source": [
    "#finds character reference for today's min tempature\n",
    "weather_min_start = weather_fcast_today.find('Minimum nighttime temperature:')\n",
    "#print(weather_min_start)\n",
    "\n",
    "# isolate web extract starting from today's min temperature\n",
    "weather_fcast_chopped = weather_fcast_text[weather_start+weather_min_start:]\n",
    "#print(weather_fcast_chopped)\n",
    "\n",
    "#finds character reference for today's min tempature VALUE\n",
    "weather_min_start_quote = weather_fcast_chopped.find('\"')\n",
    "#print(weather_min_start_quote)\n",
    "\n",
    "# isolate web extract starting from today's min temperature VALUE\n",
    "weather_fcast_chopped = weather_fcast_text[weather_start +\n",
    "                                           weather_min_start + \n",
    "                                           weather_min_start_quote + 1:]\n",
    "#print(weather_fcast_chopped)\n",
    "\n",
    "# finds end character for today's min tempature\n",
    "weather_min_end = weather_fcast_chopped.find('\"')\n",
    "#print(weather_min_end)\n",
    "\n",
    "# store today's min temperatue\n",
    "weather_min=weather_fcast_chopped[:weather_min_end]\n",
    "#weather_min\n",
    "\n",
    "# add max and min to forecast table\n",
    "weather_fcast_table.append(0)\n",
    "weather_fcast_table[0]=[weather_date,weather_max,weather_min]\n",
    "weather_fcast_table # check\n",
    "\n",
    "# and finally throw away processed data sowe are left only with data for D+1 to D+6 forecasts below\n",
    "\n",
    "weather_fcast_chopped = weather_fcast_text[weather_start +\n",
    "                                           weather_min_start + \n",
    "                                           weather_min_start_quote + \n",
    "                                           weather_min_end:]"
   ]
  },
  {
   "cell_type": "markdown",
   "metadata": {
    "slideshow": {
     "slide_type": "slide"
    }
   },
   "source": [
    "summarising the temperatures for today..."
   ]
  },
  {
   "cell_type": "code",
   "execution_count": null,
   "metadata": {
    "slideshow": {
     "slide_type": "fragment"
    }
   },
   "outputs": [],
   "source": [
    "weather_fcast_table # check"
   ]
  },
  {
   "cell_type": "markdown",
   "metadata": {
    "slideshow": {
     "slide_type": "slide"
    }
   },
   "source": [
    "now we recursively extract max and min temps for remaining days: D+1 to D+6"
   ]
  },
  {
   "cell_type": "markdown",
   "metadata": {
    "slideshow": {
     "slide_type": "subslide"
    }
   },
   "source": [
    "#### D+1 to D+6"
   ]
  },
  {
   "cell_type": "code",
   "execution_count": null,
   "metadata": {
    "slideshow": {
     "slide_type": "skip"
    }
   },
   "outputs": [],
   "source": [
    "weather_fcast_chopped # check remaining scraped data"
   ]
  },
  {
   "cell_type": "code",
   "execution_count": null,
   "metadata": {
    "slideshow": {
     "slide_type": "fragment"
    }
   },
   "outputs": [],
   "source": [
    "for day in range(1,7):\n",
    "    \n",
    "    # ROUTINE 1: Date\n",
    "    \n",
    "    #finds character reference for next date (D+1...D+7) within web extract\n",
    "    weather_start = weather_fcast_chopped.find(\"data-tab-id\")\n",
    "    print(weather_start) # DEBUGGING ONLY\n",
    "\n",
    "    # extract next date\n",
    "    weather_date=weather_fcast_chopped[weather_start+13:weather_start+23] # i.e. 13 chrs after data-tab-id and for 10 chrs \n",
    "    weather_date # DEBUGGING ONLY\n",
    "    \n",
    "    # throw away used data / retain only remaining data needed\n",
    "    weather_fcast_chopped = weather_fcast_chopped[weather_start+23:]\n",
    "\n",
    "    # ROUTINE 2: daytime (max) temperature\n",
    "    \n",
    "    #finds next character reference for max temperature\n",
    "    weather_max_start = weather_fcast_chopped.find('Maximum daytime temperature:')\n",
    "    print(weather_max_start) # DEBUGGING ONLY\n",
    "\n",
    "    # isolate web extract starting from max temperature\n",
    "    weather_fcast_chopped = weather_fcast_chopped[weather_max_start:]\n",
    "    print(weather_fcast_chopped) # DEBUGGING ONLY\n",
    "\n",
    "    #finds character reference for max tempature VALUE\n",
    "    weather_max_start_quote = weather_fcast_chopped.find('\"')\n",
    "    print(weather_max_start_quote) # DEBUGGING ONLY\n",
    "\n",
    "    # isolate web extract starting from max temperature VALUE\n",
    "    weather_fcast_chopped = weather_fcast_chopped[weather_max_start_quote + 1:]\n",
    "    print(weather_fcast_chopped) # DEBUGGING ONLY\n",
    "\n",
    "    # finds end character for max tempature\n",
    "    weather_max_end = weather_fcast_chopped.find('\"')\n",
    "    print(weather_max_end) # DEBUGGING ONLY\n",
    "\n",
    "    # store  max temperatue\n",
    "    weather_max=weather_fcast_chopped[:weather_max_end]\n",
    "    weather_max # DEBUGGING ONLY\n",
    "    \n",
    "    # throw away used data / retain only remaining data needed\n",
    "    weather_fcast_chopped = weather_fcast_chopped[weather_max_end:]\n",
    "    \n",
    "    \n",
    "    # ROUTINE 3: nighttime (min) temperature\n",
    "    \n",
    "    #finds character reference for min tempature\n",
    "    weather_min_start = weather_fcast_chopped.find('Minimum nighttime temperature:')\n",
    "    #print(weather_min_start) # DEBUGGING ONLY\n",
    "\n",
    "    # isolate web extract starting from min temperature\n",
    "    weather_fcast_chopped = weather_fcast_chopped[weather_min_start:]\n",
    "    #print(weather_fcast_chopped) # DEBUGGING ONLY\n",
    "\n",
    "    #finds character reference for min tempature VALUE\n",
    "    weather_min_start_quote = weather_fcast_chopped.find('\"')\n",
    "    #print(weather_min_start_quote) # DEBUGGING ONLY\n",
    "\n",
    "    # isolate web extract starting from min temperature VALUE\n",
    "    weather_fcast_chopped = weather_fcast_chopped[weather_min_start_quote + 1:]\n",
    "    #print(weather_fcast_chopped) # DEBUGGING ONLY\n",
    "\n",
    "    # finds end character for min tempature\n",
    "    weather_min_end = weather_fcast_chopped.find('\"')\n",
    "    #print(weather_min_end) # DEBUGGING ONLY\n",
    "\n",
    "    # store min temperatue\n",
    "    weather_min=weather_fcast_chopped[:weather_min_end]\n",
    "    #weather_min # DEBUGGING ONLY\n",
    "    \n",
    "    # ROUTINE 4: tidy up - add date and max to forecast table\n",
    "    weather_fcast_table.append(day)\n",
    "    weather_fcast_table[day]=[weather_date,weather_max, weather_min]\n",
    "    #weather_fcast_table # DEBUGGING ONLY\n",
    "    \n",
    "    # throw away used data / retain only remaining data needed\n",
    "    weather_fcast_chopped = weather_fcast_chopped[weather_min_end:]"
   ]
  },
  {
   "cell_type": "markdown",
   "metadata": {
    "slideshow": {
     "slide_type": "slide"
    }
   },
   "source": [
    "summarise the week ahead forecast"
   ]
  },
  {
   "cell_type": "code",
   "execution_count": null,
   "metadata": {
    "slideshow": {
     "slide_type": "fragment"
    }
   },
   "outputs": [],
   "source": [
    "weather_fcast_table"
   ]
  },
  {
   "cell_type": "markdown",
   "metadata": {
    "slideshow": {
     "slide_type": "slide"
    }
   },
   "source": [
    "#### Tidy Up"
   ]
  },
  {
   "cell_type": "code",
   "execution_count": null,
   "metadata": {
    "scrolled": true,
    "slideshow": {
     "slide_type": "fragment"
    }
   },
   "outputs": [],
   "source": [
    "#convert our forecast table to a Pandas dataframe\n",
    "\n",
    "import pandas as pd\n",
    "pd.DataFrame(weather_fcast_table,columns=[\"Forecast Date\",\"MaxTemp\",\"MinTemp\"])"
   ]
  }
 ],
 "metadata": {
  "celltoolbar": "Slideshow",
  "kernelspec": {
   "display_name": "Python 3 (ipykernel)",
   "language": "python",
   "name": "python3"
  },
  "language_info": {
   "codemirror_mode": {
    "name": "ipython",
    "version": 3
   },
   "file_extension": ".py",
   "mimetype": "text/x-python",
   "name": "python",
   "nbconvert_exporter": "python",
   "pygments_lexer": "ipython3",
   "version": "3.10.10"
  },
  "livereveal": {
   "autolaunch": true
  },
  "rise": {
   "autolaunch": true,
   "theme": "solarized"
  }
 },
 "nbformat": 4,
 "nbformat_minor": 2
}
